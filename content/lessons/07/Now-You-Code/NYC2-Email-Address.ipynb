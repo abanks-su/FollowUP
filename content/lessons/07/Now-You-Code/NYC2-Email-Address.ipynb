{
 "cells": [
  {
   "cell_type": "markdown",
   "metadata": {},
   "source": [
    "# Now You Code 2: Is That An Email Address?\n",
    "\n",
    "Let's use Python's built-in string functions to write our own function to detect if a string is an email address. \n",
    "\n",
    "The function `isEmail(text)` should return `True` when `text` is an email address, `False` otherwise.  \n",
    "\n",
    "For simplicity's sake we will define an email address to be any string with just ONE `@` symbol in it, where the `@` is not at the beginning or end of the string. So `a@b` is considered an email (even though it really isn't).\n",
    "\n",
    "The program should detect emails until you enter quit. \n",
    "\n",
    "Sample run:\n",
    "```\n",
    "Email address detector. Type quit to exit. \n",
    "Email: mafudge@syr.edu\n",
    "mafudge@syr.edu ==> email\n",
    "Email: mafudge@\n",
    "mafudge@ ==> NOT EMAIL\n",
    "Email: mafudge\n",
    "mafudge ==> NOT EMAIL\n",
    "Email: @syr.edu\n",
    "@syr.edu ==> NOT EMAIL\n",
    "Email: @\n",
    "@ ==> NOT EMAIL\n",
    "Email: mafudge@@syr.edu\n",
    "mafudge@@syr.edu ==> NOT EMAIL\n",
    "Email: mafudge@syr@edu\n",
    "mafudge@syr@edu ==> NOT EMAIL\n",
    "```\n",
    "\n",
    "Once again we will use the problem simplification technique to writing this program.\n",
    "\n",
    "First we will write the `isEmail(text)` function, then we will write the main program.\n"
   ]
  },
  {
   "cell_type": "markdown",
   "metadata": {},
   "source": [
    "## Step 1: Problem Analysis for isEmail function only\n",
    "\n",
    "Inputs: Email\n",
    "\n",
    "Outputs: Boolean Value\n",
    "\n",
    "Algorithm (Steps in Program):\n",
    "1. Create the function definition with a string for the parameter \n",
    "2. Check to see if the the @ is the first or last character, or if there's more than one @ symbol in the string, if it is return false. If not return true.\n"
   ]
  },
  {
   "cell_type": "code",
   "execution_count": 66,
   "metadata": {},
   "outputs": [],
   "source": [
    "## Step 2: Todo write the function definition for isEmail functiuon\n",
    "def isEmail(text):\n",
    "\n",
    "    if text[len(text) - 1] == \"@\" or text[0] == \"@\":\n",
    "        return False\n",
    "    elif text.count(\"@\") > 1:\n",
    "        return False\n",
    "    else:\n",
    "        return True"
   ]
  },
  {
   "cell_type": "markdown",
   "metadata": {},
   "source": [
    "### Step 3: Write some tests, to ensure the function works, for example\n",
    "## Make sure to test all cases!\n",
    "print(\"Input:\", \"mike@syr.edu\", \"Should be True, Actual Value:\", isEmail(\"mike@syr.edu\") )\n",
    "print(\"Input:\", \"mike@\", \"Should be False, Actual Value:\", isEmail(\"mike@\") )\n",
    "\n"
   ]
  },
  {
   "cell_type": "markdown",
   "metadata": {},
   "source": [
    "## Step 4: Problem Analysis for full Program\n",
    "\n",
    "Inputs: Email\n",
    "\n",
    "Outputs: True or False Value\n",
    "\n",
    "Algorithm (Steps in Program):\n",
    "1. Print Email detector \n",
    "2. Create a while loop\n",
    "3. Get user input for email\n",
    "4. If the user inputs quit stop the program\n",
    "5. Run isEmail function on input\n",
    "6. If the email is valid print vaild, if not print invalid"
   ]
  },
  {
   "cell_type": "code",
   "execution_count": 67,
   "metadata": {},
   "outputs": [
    {
     "name": "stdout",
     "output_type": "stream",
     "text": [
      "Email address detector. Type quit to exit. \n",
      "Email: mafudge@syr.edu\n",
      "mafudge@syr.edu is a valid email\n",
      "Email: mafudge@\n",
      "mafudge@ is not a valid email\n",
      "Email: @syr.edu\n",
      "@syr.edu is not a valid email\n",
      "Email: mafudge@@syr.edu\n",
      "mafudge@@syr.edu is not a valid email\n",
      "Email: quit\n"
     ]
    }
   ],
   "source": [
    "## Step 5: todo write code for full problem, using the isEmail function to help you solve the problem\n",
    "\n",
    "print(\"Email address detector. Type quit to exit. \")\n",
    "\n",
    "while True:\n",
    "    \n",
    "    emailInput = input(\"Email: \")\n",
    "    email = isEmail(emailInput)\n",
    "    \n",
    "    if emailInput == 'quit':\n",
    "        break  \n",
    "    elif email == True:\n",
    "        print(\"%s is a valid email\" % (emailInput))\n",
    "    elif email == False:\n",
    "        print(\"%s is not a valid email\" % (emailInput))"
   ]
  },
  {
   "cell_type": "markdown",
   "metadata": {},
   "source": [
    "## Step 6: Questions\n",
    "\n",
    "1. How many test cases should you have in step 3 to ensure you've tested all the cases?\n",
    "    4. One with @ as the first character, one with @ as the last character, one with multiple @ symbols, and one that works properly.\n",
    "    \n",
    "2. What should kind of logic should we add to make our `isEmail` function even better, so that is detects emails more accurately?\n",
    "    We could make the program detect the extentsion of the email address .com, .edu, etc. If it doesnt have that extention then it's not a valid email."
   ]
  },
  {
   "cell_type": "markdown",
   "metadata": {},
   "source": [
    "## Reminder of Evaluation Criteria\n",
    "\n",
    "1. What the problem attempted (analysis, code, and answered questions) ?\n",
    "2. What the problem analysis thought out? (does the program match the plan?)\n",
    "3. Does the code execute without syntax error?\n",
    "4. Does the code solve the intended problem?\n",
    "5. Is the code well written? (easy to understand, modular, and self-documenting, handles errors)\n"
   ]
  },
  {
   "cell_type": "code",
   "execution_count": null,
   "metadata": {
    "collapsed": true
   },
   "outputs": [],
   "source": []
  }
 ],
 "metadata": {
  "anaconda-cloud": {},
  "kernelspec": {
   "display_name": "Python 3",
   "language": "python",
   "name": "python3"
  },
  "language_info": {
   "codemirror_mode": {
    "name": "ipython",
    "version": 3
   },
   "file_extension": ".py",
   "mimetype": "text/x-python",
   "name": "python",
   "nbconvert_exporter": "python",
   "pygments_lexer": "ipython3",
   "version": "3.6.1"
  }
 },
 "nbformat": 4,
 "nbformat_minor": 1
}
