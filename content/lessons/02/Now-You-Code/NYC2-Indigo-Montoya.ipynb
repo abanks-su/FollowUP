{
 "cells": [
  {
   "cell_type": "markdown",
   "metadata": {},
   "source": [
    "# Now You Code 2: Indigo Montoya\n",
    "\n",
    "[The Pricess Bride](https://www.rottentomatoes.com/m/princess_bride/) is an adventure film from the 80's, a true cult classic. One of the many notable scenes involves a character Indigo Montoya who explains his character's motivation for revenge through the catch-phase:\n",
    "\n",
    "\"Hello. My name is Indigo Montoya. You killed my father. Prepare to die!\"\n",
    "\n",
    "You can watch the clip here: [https://www.youtube.com/watch?v=YY4cnMmo9qw](https://www.youtube.com/watch?v=YY4cnMmo9qw)\n",
    "\n",
    "Write a program in Python which asks the user to enter **your name**, a **relative** and an **past-tense action**. For example if you enter \"Indigo Montoya\", \"Father\" and \"killed\", the program will then output:\n",
    "\n",
    "\"Hello. My name is Indigo Montoya. You killed my father. Prepare to die!\"\n",
    "\n",
    "Or you could input \"Mike Fudge\", \"Uncle\" and \"Tickled\" to get:\n",
    "\n",
    "\"Hello. My name is Mike Fudge. You Tickled my Uncle. Prepare to die!\"\n"
   ]
  },
  {
   "cell_type": "markdown",
   "metadata": {
    "collapsed": true
   },
   "source": [
    "## Step 1: Problem Analysis\n",
    "\n",
    "Inputs: Full Name, Relative, Past-tense Action\n",
    "\n",
    "Outputs: A sentence saying \"Hello. My Name is Fullname. You past-tense actioned my relative. Prepare to die!\"\n",
    "\n",
    "Algorithm (Steps in Program):\n",
    "\n",
    "input the full name\n",
    "input relative\n",
    "input past action\n",
    "print \"Hello. My Name is Fullname. You past-tense actioned my relative. Prepare to die!\""
   ]
  },
  {
   "cell_type": "code",
   "execution_count": 4,
   "metadata": {},
   "outputs": [
    {
     "name": "stdout",
     "output_type": "stream",
     "text": [
      "What is your full name? Aru Banks\n",
      "Enter a relative ie. dad, mom, sister? Sister\n",
      "Enter a past-tense action ie killed,tickled,etc. Jumped\n",
      "Hello. My name is Aru Banks. You Jumped my Sister. Prepare to die!\n"
     ]
    }
   ],
   "source": [
    "fullname = input(\"What is your full name? \")\n",
    "\n",
    "relative = input(\"Enter a relative ie. dad, mom, sister? \")\n",
    "\n",
    "pastaction = input(\"Enter a past-tense action ie killed,tickled,etc. \")\n",
    "\n",
    "print(\"Hello. My name is \" + fullname + \". You \" + pastaction + \" my \" + relative + \". Prepare to die!\")"
   ]
  },
  {
   "cell_type": "markdown",
   "metadata": {},
   "source": [
    "## Step 3: Questions\n",
    "\n",
    "1. What happens when neglect the instructions and enter a past-tense action instead of a name? Does the code still run? Why?\n",
    "Yes the code still runs because the computer cannot tell the difference between a past tense action and a name. It just looks for a string. \n",
    "\n",
    "2. What type of error it when the program runs but does not handle bad input?\n",
    "This is known as a logical error and is very hard to correct. \n",
    "\n",
    "3. Is there anything you can do in code to correct this type of error? Why or why not?\n",
    "There isn't really much we can do to correct this type of error unless we can verify the identites of our user before hand. The code itself is correct, the error is actually coming from the user and that's much harder to prevent. "
   ]
  },
  {
   "cell_type": "markdown",
   "metadata": {},
   "source": [
    "## Reminder of Evaluation Criteria\n",
    "\n",
    "1. What the problem attempted (analysis, code, and answered questions) ?\n",
    "2. What the problem analysis thought out? (does the program match the plan?)\n",
    "3. Does the code execute without syntax error?\n",
    "4. Does the code solve the intended problem?\n",
    "5. Is the code well written? (easy to understand, modular, and self-documenting, handles errors)\n"
   ]
  },
  {
   "cell_type": "code",
   "execution_count": null,
   "metadata": {
    "collapsed": true
   },
   "outputs": [],
   "source": []
  }
 ],
 "metadata": {
  "anaconda-cloud": {},
  "kernelspec": {
   "display_name": "Python 3",
   "language": "python",
   "name": "python3"
  },
  "language_info": {
   "codemirror_mode": {
    "name": "ipython",
    "version": 3
   },
   "file_extension": ".py",
   "mimetype": "text/x-python",
   "name": "python",
   "nbconvert_exporter": "python",
   "pygments_lexer": "ipython3",
   "version": "3.6.1"
  }
 },
 "nbformat": 4,
 "nbformat_minor": 1
}
