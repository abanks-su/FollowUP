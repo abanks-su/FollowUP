{
 "cells": [
  {
   "cell_type": "markdown",
   "metadata": {},
   "source": [
    "# Now You Code 1: Hello 2 Ways\n",
    "\n",
    "Write a Python program which prompts you to input your first name and then your last name. It should then print your name two ways First Last and Last, First. For example:\n",
    "\n",
    "```\n",
    "What is your first name? Michael\n",
    "What is your last name? Fudge\n",
    "Hello, Michael Fudge\n",
    "Or should I say Fudge, Michael\n",
    "```\n"
   ]
  },
  {
   "cell_type": "markdown",
   "metadata": {
    "collapsed": true
   },
   "source": [
    "## Step 1: Problem Analysis\n",
    "\n",
    "Inputs: First Name, Last Name\n",
    "\n",
    "Outputs: Hello, First Name Last Name\n",
    "\n",
    "Algorithm (Steps in Program):\n",
    "\n",
    "input the first name\n",
    "input the last name\n",
    "print Hello \"First Name Last Name\"\n",
    " \n",
    "\n"
   ]
  },
  {
   "cell_type": "code",
   "execution_count": 5,
   "metadata": {},
   "outputs": [
    {
     "name": "stdout",
     "output_type": "stream",
     "text": [
      "What is your first name? Aru\n",
      "What is your last name? Banks\n",
      "Hello Aru Banks\n",
      "Or should I say Banks, Aru\n"
     ]
    }
   ],
   "source": [
    "first = input(\"What is your first name? \")\n",
    "\n",
    "last = input(\"What is your last name? \")\n",
    "\n",
    "print(\"Hello\", first, last)\n",
    "print(\"Or should I say\", last + \", \" + first)"
   ]
  },
  {
   "cell_type": "markdown",
   "metadata": {},
   "source": [
    "## Step 3: Questions\n",
    "\n",
    "1. What happens when don't follow the instructions and enter your first name as your last name? Does the code still run? Why?\n",
    "Yes the code still runs. The program cannot distinguish between you first and last name all it requires is a text input and it will run. \n",
    "\n",
    "2. What type of error is it when the program runs but does not handle bad input?\n",
    "This is known as a logical error and is very hard to correct. \n",
    "\n",
    "3. Is there anything you can do in code to correct this type of error? Why or why not?\n",
    "There isn't really much we can do to correct this type of error unless we can verify the identites of our user before hand. The code itself is correct, the error is actually coming from the user and that's much harder to prevent. \n"
   ]
  },
  {
   "cell_type": "markdown",
   "metadata": {},
   "source": [
    "## Reminder of Evaluation Criteria\n",
    "\n",
    "1. What the problem attempted (analysis, code, and answered questions) ?\n",
    "2. What the problem analysis thought out? (does the program match the plan?)\n",
    "3. Does the code execute without syntax error?\n",
    "4. Does the code solve the intended problem?\n",
    "5. Is the code well written? (easy to understand, modular, and self-documenting, handles errors)\n"
   ]
  },
  {
   "cell_type": "code",
   "execution_count": null,
   "metadata": {
    "collapsed": true
   },
   "outputs": [],
   "source": []
  }
 ],
 "metadata": {
  "anaconda-cloud": {},
  "kernelspec": {
   "display_name": "Python 3",
   "language": "python",
   "name": "python3"
  },
  "language_info": {
   "codemirror_mode": {
    "name": "ipython",
    "version": 3
   },
   "file_extension": ".py",
   "mimetype": "text/x-python",
   "name": "python",
   "nbconvert_exporter": "python",
   "pygments_lexer": "ipython3",
   "version": "3.6.1"
  }
 },
 "nbformat": 4,
 "nbformat_minor": 1
}
