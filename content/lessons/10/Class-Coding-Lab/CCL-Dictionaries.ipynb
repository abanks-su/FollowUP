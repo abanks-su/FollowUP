{
 "cells": [
  {
   "cell_type": "markdown",
   "metadata": {},
   "source": [
    "# In-Class Coding Lab: Dictionaries\n",
    "\n",
    "The goals of this lab are to help you understand:\n",
    "\n",
    " - How to use Python Dictionaries\n",
    " - Basic Dictionary methods\n",
    " - Dealing with Key errors\n",
    " - How to use lists of Dictionaries\n",
    " - How to encode / decode python dictionaries to json.\n",
    " \n",
    "## Dictionaries are Key-Value Pairs.\n",
    "\n",
    "The **key** is unique for each Python dictionary object and is always of type `str`. The **value** stored under the key can be any Python type. \n",
    "\n",
    "This example creates a `stock` variable with two keys `symbol` and `name`. We access the dictionary key with `['keyname']`."
   ]
  },
  {
   "cell_type": "code",
   "execution_count": null,
   "metadata": {},
   "outputs": [],
   "source": [
    "stock = {} # empty dictionary\n",
    "stock['symbol'] = 'AAPL'\n",
    "stock['name'] = 'Apple Computer'\n",
    "print(stock)\n",
    "print(stock['symbol'])\n",
    "print(stock['name'])"
   ]
  },
  {
   "cell_type": "markdown",
   "metadata": {},
   "source": [
    "While Python lists are best suited for storing multiple values of the same type ( like grades ), Python dictionaries are best suited for storing hybrid values, or values with multiple attributes.\n",
    "\n",
    "In the example above we created an empty dictionary `{}` then assigned keys `symbol` and `name` as part of individual assignment statements.\n",
    "\n",
    "We can also build the dictionary in a single statement, like this:"
   ]
  },
  {
   "cell_type": "code",
   "execution_count": null,
   "metadata": {},
   "outputs": [],
   "source": [
    "stock = { 'name' : 'Apple Computer', 'symbol' : 'AAPL', 'value' : 125.6 }\n",
    "print(stock)\n",
    "print(\"%s (%s) has a value of $%.2f\" %(stock['name'], stock['symbol'], stock['value']))"
   ]
  },
  {
   "cell_type": "markdown",
   "metadata": {},
   "source": [
    "## Dictionaries are mutable\n",
    "\n",
    "This means we can change their value. We can add and remove keys and update the value of keys. This makes dictionaries quite useful for storing  data."
   ]
  },
  {
   "cell_type": "code",
   "execution_count": null,
   "metadata": {},
   "outputs": [],
   "source": [
    "# let's add 2 new keys\n",
    "print(\"Before changes\", stock)\n",
    "stock['low'] = 119.85\n",
    "stock['high'] = 127.0\n",
    "\n",
    "# and update the value key\n",
    "stock['value'] = 126.25\n",
    "print(\"After change\", stock)\n"
   ]
  },
  {
   "cell_type": "markdown",
   "metadata": {},
   "source": [
    "## Now you Try It!\n",
    "\n",
    "Create a python dictionary called `car` with the following keys `make`, `model` and `price`. Set appropriate values and print out the dictionary.\n"
   ]
  },
  {
   "cell_type": "code",
   "execution_count": 6,
   "metadata": {},
   "outputs": [
    {
     "name": "stdout",
     "output_type": "stream",
     "text": [
      "{'make': 'Sedan', 'model': 'C-Class', 'price': '40,000'}\n",
      "C-Class\n"
     ]
    }
   ],
   "source": [
    "car = {} # empty dictionary\n",
    "car['make'] = 'Sedan'\n",
    "car['model'] = 'C-Class'\n",
    "car['price'] = '40,000'\n",
    "print(car)\n",
    "\n"
   ]
  },
  {
   "cell_type": "markdown",
   "metadata": {},
   "source": [
    "## What Happens when the key is not there?\n",
    "\n",
    "Let's go back to our stock example. What happens when we try to read a key not present in the dictionary? \n",
    "\n",
    "The answer is that Python will report a `KeyError` "
   ]
  },
  {
   "cell_type": "code",
   "execution_count": 3,
   "metadata": {},
   "outputs": [
    {
     "ename": "NameError",
     "evalue": "name 'stock' is not defined",
     "output_type": "error",
     "traceback": [
      "\u001b[0;31m---------------------------------------------------------------------------\u001b[0m",
      "\u001b[0;31mNameError\u001b[0m                                 Traceback (most recent call last)",
      "\u001b[0;32m<ipython-input-3-662e7fc8904a>\u001b[0m in \u001b[0;36m<module>\u001b[0;34m()\u001b[0m\n\u001b[0;32m----> 1\u001b[0;31m \u001b[0mprint\u001b[0m\u001b[0;34m(\u001b[0m \u001b[0mstock\u001b[0m\u001b[0;34m[\u001b[0m\u001b[0;34m'change'\u001b[0m\u001b[0;34m]\u001b[0m \u001b[0;34m)\u001b[0m\u001b[0;34m\u001b[0m\u001b[0m\n\u001b[0m",
      "\u001b[0;31mNameError\u001b[0m: name 'stock' is not defined"
     ]
    }
   ],
   "source": [
    "print( stock['change'] )"
   ]
  },
  {
   "cell_type": "markdown",
   "metadata": {},
   "source": [
    "No worries. We know how to handle run-time errors in Python... use `try except` !!!"
   ]
  },
  {
   "cell_type": "code",
   "execution_count": null,
   "metadata": {},
   "outputs": [],
   "source": [
    "try:\n",
    "    print( stock['change'] )\n",
    "except KeyError:\n",
    "    print(\"The key 'change' does not exist!\")"
   ]
  },
  {
   "cell_type": "markdown",
   "metadata": {},
   "source": [
    "## Avoiding KeyError\n",
    "\n",
    "You can avoid `KeyError` using the `get()` dictionary method. This method will return a default value when the key does not exist.\n",
    "\n",
    "The first argument to `get()` is the key to get, the second argument is the value to return when the key does not exist. "
   ]
  },
  {
   "cell_type": "code",
   "execution_count": null,
   "metadata": {},
   "outputs": [],
   "source": [
    "print(stock.get('name','no key'))\n",
    "print(stock.get('change', 'no key'))"
   ]
  },
  {
   "cell_type": "markdown",
   "metadata": {},
   "source": [
    "## Now You try It!\n",
    "\n",
    "Write a program to ask the user to input a key for the `stock` variable. \n",
    "\n",
    "If the key exists, print the value, otherwise print 'Key does not exist'"
   ]
  },
  {
   "cell_type": "code",
   "execution_count": 14,
   "metadata": {},
   "outputs": [
    {
     "name": "stdout",
     "output_type": "stream",
     "text": [
      "Enter a key for stock: butts\n",
      "The key butts does not exist!\n"
     ]
    }
   ],
   "source": [
    "userKey = input(\"Enter a key for stock: \")\n",
    "\n",
    "stock = { 'name' : 'Apple Computer', 'symbol' : 'AAPL', 'value' : 125.6 }\n",
    "\n",
    "try:\n",
    "    print( stock[userKey] )\n",
    "except KeyError:\n",
    "    print(\"The key %s does not exist!\" % (userKey))\n",
    "\n",
    "\n"
   ]
  },
  {
   "cell_type": "markdown",
   "metadata": {},
   "source": [
    "## Enumerating keys and values\n",
    "\n",
    "You can enumerate keys and values easily, using the `keys()` and `values()` methods:"
   ]
  },
  {
   "cell_type": "code",
   "execution_count": 17,
   "metadata": {},
   "outputs": [
    {
     "name": "stdout",
     "output_type": "stream",
     "text": [
      "KEYS\n",
      "VALUES\n"
     ]
    }
   ],
   "source": [
    "print(\"KEYS\")\n",
    "for k in stock.keys():\n",
    "    print(k)\n",
    "    \n",
    "print(\"VALUES\")\n",
    "for v in stock.values():\n",
    "    print(v)"
   ]
  },
  {
   "cell_type": "markdown",
   "metadata": {},
   "source": [
    "## List of Dictionary\n",
    "\n",
    "The List of Dictionary object in Python allows us to create useful in-memory data structures. It's one of the features of Python that sets it apart from other programming languages. \n",
    "\n",
    "Let's use it to build a portfolio (list of 4 stocks)."
   ]
  },
  {
   "cell_type": "code",
   "execution_count": null,
   "metadata": {},
   "outputs": [],
   "source": [
    "portfolio = [\n",
    "    { 'symbol' : 'AAPL', 'name' : 'Apple Computer Corp.', 'value': 136.66 },\n",
    "    { 'symbol' : 'AMZN', 'name' : 'Amazon.com, Inc.', 'value': 845.24 },\n",
    "    { 'symbol' : 'MSFT', 'name' : 'Microsoft Corporation', 'value': 64.62 },\n",
    "    { 'symbol' : 'TSLA', 'name' : 'Tesla, Inc.', 'value': 257.00 }    \n",
    "]\n",
    "\n",
    "print(\"first stock\", portfolio[0])           \n",
    "print(\"name of first stock\", portfolio[0]['name'])   \n",
    "print(\"last stock\", portfolio[-1])          \n",
    "print(\"value of 2nd stock\",  portfolio[1]['value'])  "
   ]
  },
  {
   "cell_type": "markdown",
   "metadata": {},
   "source": [
    "## Putting It All Together\n",
    "\n",
    "Write a program to build out your personal stock portfolio.\n",
    "\n",
    "```\n",
    "1. Start with an empty list, called portfolio\n",
    "2. loop\n",
    "3.     create a new stock dictionary\n",
    "3.     input a stock symbol, or type 'QUIT' to print portfolio\n",
    "4.     if symbol equals 'QUIT' exit loop\n",
    "5.     add symbol value to stock dictionary under 'symbol' key\n",
    "6.     input stock value as float\n",
    "7.     add stock value to stock dictionary under 'value key\n",
    "8.     append stock variable to portfolio list variable\n",
    "9. time to print the portfolio: for each stock in the portfolio\n",
    "10.    print stock symbol and stock value, like this \"AAPL $136.66\"\n",
    "```"
   ]
  },
  {
   "cell_type": "code",
   "execution_count": null,
   "metadata": {},
   "outputs": [],
   "source": [
    "portfolio = []\n",
    "\n",
    "while True:\n",
    "    \n",
    "    stock = {}\n",
    "    stockSymbol = input(\"Input a Stock Symbol or enter quit: \")\n",
    "    \n",
    "    if stockSymbol == 'quit':\n",
    "        break\n",
    "        \n",
    "    stock['symbol'] = stockSymbol\n",
    "    \n",
    "    stockValue = input(\"Input a Stock Value: \")  \n",
    "    stock['value'] = float(stockValue)\n",
    "    \n",
    "    portfolio.append(stock)\n",
    "\n",
    "i = 0\n",
    "while i < len(portfolio):\n",
    "    print(portfolio[i][\"symbol\"] + \" $\" + str(portfolio[i][\"value\"]))\n",
    "    i = i + 1\n",
    "\n"
   ]
  },
  {
   "cell_type": "code",
   "execution_count": 15,
   "metadata": {},
   "outputs": [
    {
     "name": "stdout",
     "output_type": "stream",
     "text": [
      "{'name': 'Apple Computer', 'symbol': 'AAPL', 'value': 125.6}\n"
     ]
    },
    {
     "ename": "AttributeError",
     "evalue": "'dict' object has no attribute 'append'",
     "output_type": "error",
     "traceback": [
      "\u001b[0;31m---------------------------------------------------------------------------\u001b[0m",
      "\u001b[0;31mAttributeError\u001b[0m                            Traceback (most recent call last)",
      "\u001b[0;32m<ipython-input-15-8bf57448889b>\u001b[0m in \u001b[0;36m<module>\u001b[0;34m()\u001b[0m\n\u001b[1;32m      1\u001b[0m \u001b[0mstock\u001b[0m \u001b[0;34m=\u001b[0m \u001b[0;34m{\u001b[0m \u001b[0;34m'name'\u001b[0m \u001b[0;34m:\u001b[0m \u001b[0;34m'Apple Computer'\u001b[0m\u001b[0;34m,\u001b[0m \u001b[0;34m'symbol'\u001b[0m \u001b[0;34m:\u001b[0m \u001b[0;34m'AAPL'\u001b[0m\u001b[0;34m,\u001b[0m \u001b[0;34m'value'\u001b[0m \u001b[0;34m:\u001b[0m \u001b[0;36m125.6\u001b[0m \u001b[0;34m}\u001b[0m\u001b[0;34m\u001b[0m\u001b[0m\n\u001b[1;32m      2\u001b[0m \u001b[0mprint\u001b[0m\u001b[0;34m(\u001b[0m\u001b[0mstock\u001b[0m\u001b[0;34m)\u001b[0m\u001b[0;34m\u001b[0m\u001b[0m\n\u001b[0;32m----> 3\u001b[0;31m \u001b[0mstock\u001b[0m\u001b[0;34m.\u001b[0m\u001b[0mappend\u001b[0m\u001b[0;34m(\u001b[0m\u001b[0;34m(\u001b[0m\u001b[0;34m'symbol'\u001b[0m\u001b[0;34m,\u001b[0m \u001b[0;34m'butts'\u001b[0m\u001b[0;34m)\u001b[0m\u001b[0;34m)\u001b[0m\u001b[0;34m\u001b[0m\u001b[0m\n\u001b[0m\u001b[1;32m      4\u001b[0m \u001b[0mprint\u001b[0m\u001b[0;34m(\u001b[0m\u001b[0mstock\u001b[0m\u001b[0;34m)\u001b[0m\u001b[0;34m\u001b[0m\u001b[0m\n",
      "\u001b[0;31mAttributeError\u001b[0m: 'dict' object has no attribute 'append'"
     ]
    }
   ],
   "source": []
  },
  {
   "cell_type": "code",
   "execution_count": null,
   "metadata": {
    "collapsed": true
   },
   "outputs": [],
   "source": []
  }
 ],
 "metadata": {
  "anaconda-cloud": {},
  "kernelspec": {
   "display_name": "Python 3",
   "language": "python",
   "name": "python3"
  },
  "language_info": {
   "codemirror_mode": {
    "name": "ipython",
    "version": 3
   },
   "file_extension": ".py",
   "mimetype": "text/x-python",
   "name": "python",
   "nbconvert_exporter": "python",
   "pygments_lexer": "ipython3",
   "version": "3.6.1"
  }
 },
 "nbformat": 4,
 "nbformat_minor": 1
}
