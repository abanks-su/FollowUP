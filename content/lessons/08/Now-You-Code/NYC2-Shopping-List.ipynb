{
 "cells": [
  {
   "cell_type": "markdown",
   "metadata": {},
   "source": [
    "# Now You Code 2: Shopping List\n",
    "\n",
    "Write a program to input a list of grocery items for your shopping list and then writes them to a file a line at a time.  The program should keep asking you to enter grocery items until you type `'done'`.\n",
    "\n",
    "After you complete the list, the program should then load the file and read the list back to you by printing each item out.\n",
    "\n",
    "Sample Run:\n",
    "\n",
    "```\n",
    "Let's make a shopping list. Type 'done' when you're finished:\n",
    "Enter Item: milk\n",
    "Enter Item: cheese\n",
    "Enter Item: eggs\n",
    "Enter Item: beer\n",
    "Enter Item: apples\n",
    "Enter Item: done\n",
    "Your shopping list:\n",
    "milk\n",
    "cheese\n",
    "eggs\n",
    "beer\n",
    "apples\n",
    "```\n"
   ]
  },
  {
   "cell_type": "markdown",
   "metadata": {
    "collapsed": true
   },
   "source": [
    "## Step 1: Problem Analysis\n",
    "\n",
    "Inputs: Items for Shopping List\n",
    "\n",
    "Outputs: Items on Shopping List\n",
    "\n",
    "Algorithm (Steps in Program):\n",
    "1. Open a Writeable File\n",
    "2. Create a loop where a user can input items on their shopping list\n",
    "3. If the user clicks done break out of the loop\n",
    "4. Write the items on the list onto the file\n",
    "5. Close the file so it saves\n",
    "6. Open the shopping list file you just created but for reading this time\n",
    "7. Read through the lines of the file\n",
    "8. Print the lines of the file\n",
    "\n"
   ]
  },
  {
   "cell_type": "code",
   "execution_count": null,
   "metadata": {},
   "outputs": [],
   "source": [
    "filename = \"NYC2-shopping-list.txt\"\n",
    "fout = open('output.txt', 'w')    \n",
    "while True:\n",
    "        line1 = input(\"Enter Item: \")\n",
    "        if str(line1) == 'quit':\n",
    "            break\n",
    "        fout.write(line1 + \"\\n\")  \n",
    "fout.close()\n",
    "\n",
    "filename = \"NYC2-shopping-list.txt\"\n",
    "with open('output.txt', 'r') as f:\n",
    "    print(\"Your shopping list:\")\n",
    "    for line in f.readlines():\n",
    "        print(line)\n"
   ]
  },
  {
   "cell_type": "markdown",
   "metadata": {
    "collapsed": true
   },
   "source": [
    "## Step 3: Refactoring\n",
    "\n",
    "Refactor the part of your program which reads the shopping list from the file into a separate user-defined function called `readShoppingList` \n",
    "re-write your program to use this function.\n",
    "\n",
    "## ReadShoppingList function\n",
    "\n",
    "Inputs: Shopping List File\n",
    "\n",
    "Outputs: Items in Shopping List File \n",
    "\n",
    "Algorithm (Steps in Program):\n",
    "1. Create the function defintion inputing a file as the parameter\n",
    "2. Open the shopping list file for reading\n",
    "3. Read through the lines of the file\n",
    "4. Print the lines of the file"
   ]
  },
  {
   "cell_type": "code",
   "execution_count": null,
   "metadata": {
    "collapsed": true
   },
   "outputs": [],
   "source": []
  },
  {
   "cell_type": "code",
   "execution_count": 80,
   "metadata": {},
   "outputs": [
    {
     "name": "stdout",
     "output_type": "stream",
     "text": [
      "Your shopping list:\n",
      "eggs\n",
      "\n",
      "fruit\n",
      "\n",
      "grits\n",
      "\n"
     ]
    }
   ],
   "source": [
    "## Step 4: Write program again with refactored code.\n",
    "\n",
    "def readShoppingList(file):\n",
    "    with open(file, 'r') as f:\n",
    "        print(\"Your shopping list:\")\n",
    "        for line in f.readlines():\n",
    "            print(line)\n",
    "\n",
    "readShoppingList('output.txt')"
   ]
  },
  {
   "cell_type": "markdown",
   "metadata": {},
   "source": [
    "## Step 5: Questions\n",
    "\n",
    "1. Is the refactored code in step 4 easier to read? Why or why not?\n",
    "Yes it's very simple and the function name tells you exactly what it does.\n",
    "\n",
    "2. Explain how this program could be refarctored further (there's one thing that's obvious).\n",
    "You can ask the users if they would like to append or add to file after reading it, or remove items from the list after they picked something up from the store.\n",
    "\n",
    "3. Describe how this program can be modified to support multiple shopping lists?\n",
    "You could create multiple files in the parameter def readShoppingList(file1, file2, file3): and open and read them the same way you did the others."
   ]
  },
  {
   "cell_type": "markdown",
   "metadata": {},
   "source": [
    "## Reminder of Evaluation Criteria\n",
    "\n",
    "1. What the problem attempted (analysis, code, and answered questions) ?\n",
    "2. What the problem analysis thought out? (does the program match the plan?)\n",
    "3. Does the code execute without syntax error?\n",
    "4. Does the code solve the intended problem?\n",
    "5. Is the code well written? (easy to understand, modular, and self-documenting, handles errors)\n"
   ]
  },
  {
   "cell_type": "code",
   "execution_count": null,
   "metadata": {
    "collapsed": true
   },
   "outputs": [],
   "source": []
  }
 ],
 "metadata": {
  "anaconda-cloud": {},
  "kernelspec": {
   "display_name": "Python 3",
   "language": "python",
   "name": "python3"
  },
  "language_info": {
   "codemirror_mode": {
    "name": "ipython",
    "version": 3
   },
   "file_extension": ".py",
   "mimetype": "text/x-python",
   "name": "python",
   "nbconvert_exporter": "python",
   "pygments_lexer": "ipython3",
   "version": "3.6.1"
  }
 },
 "nbformat": 4,
 "nbformat_minor": 1
}
