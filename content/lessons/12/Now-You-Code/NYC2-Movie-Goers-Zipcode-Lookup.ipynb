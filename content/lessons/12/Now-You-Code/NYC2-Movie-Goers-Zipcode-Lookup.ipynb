{
 "cells": [
  {
   "cell_type": "markdown",
   "metadata": {},
   "source": [
    "# Now You Code 4: Movie Goers Zipcode Lookup\n",
    "\n",
    "The movie company has hired you to help them enhance their data set. They would like to know which **US State** each of the respondents in their movie goers survey comes from, and ask you to produce a list of states and a count of movie goers from that state.\n",
    "\n",
    "The movie goers dataset `'NYC1-moviegoers.csv'` from NYC1 contains `'zip_code'` but not city and state.\n",
    "\n",
    "We will load another pandas dataset, **the Zipcode Database** here: \n",
    "`'https://raw.githubusercontent.com/mafudge/datasets/master/zipcodes/free-zipcode-database-Primary.csv'` This data set contains Zip codes with primary city, state and approximate location.\n",
    "\n",
    "Your goal is to figure out how to use the `DataFrame.merge()` method to combine these two data sets on matching zip code values.\n",
    "http://pandas.pydata.org/pandas-docs/stable/generated/pandas.DataFrame.merge.html \n",
    "\n",
    "After you merge the dataset, then you can complete the task and provide a count of movie goers by state.\n"
   ]
  },
  {
   "cell_type": "code",
   "execution_count": 11,
   "metadata": {
    "collapsed": true
   },
   "outputs": [],
   "source": [
    "# import pandas\n",
    "import pandas as pd\n",
    "\n",
    "# this turns off warning messages\n",
    "import warnings\n",
    "warnings.filterwarnings('ignore')"
   ]
  },
  {
   "cell_type": "markdown",
   "metadata": {},
   "source": [
    "### Part 1: Load the movie goers dataset into a Pandas DataFrame\n",
    "\n",
    "Write code to load the movie goers dataset (in csv format) into the variable `moviegoers` and then print the first few rows. "
   ]
  },
  {
   "cell_type": "code",
   "execution_count": 12,
   "metadata": {},
   "outputs": [
    {
     "data": {
      "text/html": [
       "<div>\n",
       "<style>\n",
       "    .dataframe thead tr:only-child th {\n",
       "        text-align: right;\n",
       "    }\n",
       "\n",
       "    .dataframe thead th {\n",
       "        text-align: left;\n",
       "    }\n",
       "\n",
       "    .dataframe tbody tr th {\n",
       "        vertical-align: top;\n",
       "    }\n",
       "</style>\n",
       "<table border=\"1\" class=\"dataframe\">\n",
       "  <thead>\n",
       "    <tr style=\"text-align: right;\">\n",
       "      <th></th>\n",
       "      <th>user_id</th>\n",
       "      <th>age</th>\n",
       "      <th>gender</th>\n",
       "      <th>occupation</th>\n",
       "      <th>zip_code</th>\n",
       "    </tr>\n",
       "  </thead>\n",
       "  <tbody>\n",
       "    <tr>\n",
       "      <th>366</th>\n",
       "      <td>367</td>\n",
       "      <td>17</td>\n",
       "      <td>M</td>\n",
       "      <td>student</td>\n",
       "      <td>37411</td>\n",
       "    </tr>\n",
       "    <tr>\n",
       "      <th>119</th>\n",
       "      <td>120</td>\n",
       "      <td>47</td>\n",
       "      <td>F</td>\n",
       "      <td>other</td>\n",
       "      <td>6260</td>\n",
       "    </tr>\n",
       "    <tr>\n",
       "      <th>87</th>\n",
       "      <td>88</td>\n",
       "      <td>49</td>\n",
       "      <td>F</td>\n",
       "      <td>librarian</td>\n",
       "      <td>11701</td>\n",
       "    </tr>\n",
       "    <tr>\n",
       "      <th>93</th>\n",
       "      <td>94</td>\n",
       "      <td>26</td>\n",
       "      <td>M</td>\n",
       "      <td>student</td>\n",
       "      <td>71457</td>\n",
       "    </tr>\n",
       "    <tr>\n",
       "      <th>137</th>\n",
       "      <td>138</td>\n",
       "      <td>46</td>\n",
       "      <td>M</td>\n",
       "      <td>doctor</td>\n",
       "      <td>53211</td>\n",
       "    </tr>\n",
       "  </tbody>\n",
       "</table>\n",
       "</div>"
      ],
      "text/plain": [
       "     user_id  age gender occupation zip_code\n",
       "366      367   17      M    student    37411\n",
       "119      120   47      F      other     6260\n",
       "87        88   49      F  librarian    11701\n",
       "93        94   26      M    student    71457\n",
       "137      138   46      M     doctor    53211"
      ]
     },
     "execution_count": 12,
     "metadata": {},
     "output_type": "execute_result"
    }
   ],
   "source": [
    "moviegoers = pd.read_csv('NYC1-moviegoers.csv')\n",
    "moviegoers.sample(5)"
   ]
  },
  {
   "cell_type": "markdown",
   "metadata": {},
   "source": [
    "### Part 2: Load the zip code database into a Pandas DataFrame\n",
    "\n",
    "Write code to load the movie goers dataset (in csv format) into the variable `zipcodes` and then print the first few rows. \n",
    "\n",
    "The database (in csv format) can be found here: `'https://raw.githubusercontent.com/mafudge/datasets/master/zipcodes/free-zipcode-database-Primary.csv'`  \n",
    "\n",
    "**HINT:**  You must include the named argument `dtype={'Zipcode': object}` to the `read_csv()` method to force the `Zipcode` series to be the same type as in the `moviegoers` dataframe."
   ]
  },
  {
   "cell_type": "code",
   "execution_count": 27,
   "metadata": {},
   "outputs": [
    {
     "data": {
      "text/html": [
       "<div>\n",
       "<style>\n",
       "    .dataframe thead tr:only-child th {\n",
       "        text-align: right;\n",
       "    }\n",
       "\n",
       "    .dataframe thead th {\n",
       "        text-align: left;\n",
       "    }\n",
       "\n",
       "    .dataframe tbody tr th {\n",
       "        vertical-align: top;\n",
       "    }\n",
       "</style>\n",
       "<table border=\"1\" class=\"dataframe\">\n",
       "  <thead>\n",
       "    <tr style=\"text-align: right;\">\n",
       "      <th></th>\n",
       "      <th>Zipcode</th>\n",
       "      <th>ZipCodeType</th>\n",
       "      <th>City</th>\n",
       "      <th>State</th>\n",
       "      <th>LocationType</th>\n",
       "      <th>Lat</th>\n",
       "      <th>Long</th>\n",
       "      <th>Location</th>\n",
       "      <th>Decommisioned</th>\n",
       "      <th>TaxReturnsFiled</th>\n",
       "      <th>EstimatedPopulation</th>\n",
       "      <th>TotalWages</th>\n",
       "    </tr>\n",
       "  </thead>\n",
       "  <tbody>\n",
       "    <tr>\n",
       "      <th>19279</th>\n",
       "      <td>85123</td>\n",
       "      <td>STANDARD</td>\n",
       "      <td>ARIZONA CITY</td>\n",
       "      <td>AZ</td>\n",
       "      <td>PRIMARY</td>\n",
       "      <td>32.73</td>\n",
       "      <td>-111.67</td>\n",
       "      <td>NA-US-AZ-ARIZONA CITY</td>\n",
       "      <td>False</td>\n",
       "      <td>NaN</td>\n",
       "      <td>NaN</td>\n",
       "      <td>NaN</td>\n",
       "    </tr>\n",
       "    <tr>\n",
       "      <th>38183</th>\n",
       "      <td>21623</td>\n",
       "      <td>STANDARD</td>\n",
       "      <td>CHURCH HILL</td>\n",
       "      <td>MD</td>\n",
       "      <td>PRIMARY</td>\n",
       "      <td>39.14</td>\n",
       "      <td>-75.98</td>\n",
       "      <td>NA-US-MD-CHURCH HILL</td>\n",
       "      <td>False</td>\n",
       "      <td>813.0</td>\n",
       "      <td>1457.0</td>\n",
       "      <td>31596445.0</td>\n",
       "    </tr>\n",
       "    <tr>\n",
       "      <th>27270</th>\n",
       "      <td>36556</td>\n",
       "      <td>PO BOX</td>\n",
       "      <td>MALCOLM</td>\n",
       "      <td>AL</td>\n",
       "      <td>PRIMARY</td>\n",
       "      <td>31.19</td>\n",
       "      <td>-88.01</td>\n",
       "      <td>NA-US-AL-MALCOLM</td>\n",
       "      <td>False</td>\n",
       "      <td>NaN</td>\n",
       "      <td>NaN</td>\n",
       "      <td>NaN</td>\n",
       "    </tr>\n",
       "    <tr>\n",
       "      <th>24956</th>\n",
       "      <td>32266</td>\n",
       "      <td>STANDARD</td>\n",
       "      <td>NEPTUNE BEACH</td>\n",
       "      <td>FL</td>\n",
       "      <td>PRIMARY</td>\n",
       "      <td>30.31</td>\n",
       "      <td>-81.39</td>\n",
       "      <td>NA-US-FL-NEPTUNE BEACH</td>\n",
       "      <td>False</td>\n",
       "      <td>3712.0</td>\n",
       "      <td>5895.0</td>\n",
       "      <td>164096128.0</td>\n",
       "    </tr>\n",
       "    <tr>\n",
       "      <th>888</th>\n",
       "      <td>4231</td>\n",
       "      <td>STANDARD</td>\n",
       "      <td>STONEHAM</td>\n",
       "      <td>ME</td>\n",
       "      <td>PRIMARY</td>\n",
       "      <td>44.25</td>\n",
       "      <td>-70.81</td>\n",
       "      <td>NA-US-ME-STONEHAM</td>\n",
       "      <td>False</td>\n",
       "      <td>NaN</td>\n",
       "      <td>NaN</td>\n",
       "      <td>NaN</td>\n",
       "    </tr>\n",
       "  </tbody>\n",
       "</table>\n",
       "</div>"
      ],
      "text/plain": [
       "       Zipcode ZipCodeType           City State LocationType    Lat    Long  \\\n",
       "19279    85123    STANDARD   ARIZONA CITY    AZ      PRIMARY  32.73 -111.67   \n",
       "38183    21623    STANDARD    CHURCH HILL    MD      PRIMARY  39.14  -75.98   \n",
       "27270    36556      PO BOX        MALCOLM    AL      PRIMARY  31.19  -88.01   \n",
       "24956    32266    STANDARD  NEPTUNE BEACH    FL      PRIMARY  30.31  -81.39   \n",
       "888       4231    STANDARD       STONEHAM    ME      PRIMARY  44.25  -70.81   \n",
       "\n",
       "                     Location  Decommisioned  TaxReturnsFiled  \\\n",
       "19279   NA-US-AZ-ARIZONA CITY          False              NaN   \n",
       "38183    NA-US-MD-CHURCH HILL          False            813.0   \n",
       "27270        NA-US-AL-MALCOLM          False              NaN   \n",
       "24956  NA-US-FL-NEPTUNE BEACH          False           3712.0   \n",
       "888         NA-US-ME-STONEHAM          False              NaN   \n",
       "\n",
       "       EstimatedPopulation   TotalWages  \n",
       "19279                  NaN          NaN  \n",
       "38183               1457.0   31596445.0  \n",
       "27270                  NaN          NaN  \n",
       "24956               5895.0  164096128.0  \n",
       "888                    NaN          NaN  "
      ]
     },
     "execution_count": 27,
     "metadata": {},
     "output_type": "execute_result"
    }
   ],
   "source": [
    "zipcodes = pd.read_csv('https://raw.githubusercontent.com/mafudge/datasets/master/zipcodes/free-zipcode-database-Primary.csv')\n",
    "zipcodes.sample(5)"
   ]
  },
  {
   "cell_type": "markdown",
   "metadata": {},
   "source": [
    "### Part 3: Merge both data sets into a single combined DataFrame\n",
    "\n",
    "Next we must merge the `moviegoers` DataFrame with the `zipcodes` DataFrame. To do this you must specify which zip code column from `moviegoers` matches the zip cod column from `zipcodes` (as you can see they have different names).\n",
    "\n",
    "```\n",
    "Help on method merge in module pandas.core.frame:\n",
    "\n",
    "merge(right, how='inner', on=None, left_on=None, right_on=None, left_index=False, right_index=False, sort=False, suffixes=('_x', '_y'), copy=True, indicator=False) method of pandas.core.frame.DataFrame instance\n",
    "    Merge DataFrame objects by performing a database-style join operation by\n",
    "    columns or indexes.\n",
    "```\n",
    "\n",
    "The type of merge we will do is an `inner`, because we only want rows when the zip codes match. This is called an *intersection*.\n",
    "\n",
    "To complete a merge we must specify the column names from the left and right DataFrames.  Most of the code has been written for you. Your task is to complete the columns for the merge, replacing `????` with the appropriate column names."
   ]
  },
  {
   "cell_type": "code",
   "execution_count": 57,
   "metadata": {},
   "outputs": [
    {
     "ename": "ValueError",
     "evalue": "a must be greater than 0",
     "output_type": "error",
     "traceback": [
      "\u001b[0;31m---------------------------------------------------------------------------\u001b[0m",
      "\u001b[0;31mValueError\u001b[0m                                Traceback (most recent call last)",
      "\u001b[0;32m<ipython-input-57-cb0733844779>\u001b[0m in \u001b[0;36m<module>\u001b[0;34m()\u001b[0m\n\u001b[1;32m      1\u001b[0m \u001b[0md\u001b[0m \u001b[0;34m=\u001b[0m \u001b[0mmoviegoers\u001b[0m\u001b[0;34m.\u001b[0m\u001b[0mmerge\u001b[0m\u001b[0;34m(\u001b[0m\u001b[0mzipcodes\u001b[0m\u001b[0;34m,\u001b[0m \u001b[0mhow\u001b[0m \u001b[0;34m=\u001b[0m \u001b[0;34m'inner'\u001b[0m\u001b[0;34m,\u001b[0m \u001b[0mleft_on\u001b[0m \u001b[0;34m=\u001b[0m \u001b[0;34m'zip_code'\u001b[0m\u001b[0;34m,\u001b[0m \u001b[0mright_on\u001b[0m \u001b[0;34m=\u001b[0m \u001b[0;34m'Zipcode'\u001b[0m\u001b[0;34m)\u001b[0m\u001b[0;34m\u001b[0m\u001b[0m\n\u001b[0;32m----> 2\u001b[0;31m \u001b[0md\u001b[0m\u001b[0;34m.\u001b[0m\u001b[0msample\u001b[0m\u001b[0;34m(\u001b[0m\u001b[0;36m1\u001b[0m\u001b[0;34m)\u001b[0m\u001b[0;34m\u001b[0m\u001b[0m\n\u001b[0m\u001b[1;32m      3\u001b[0m \u001b[0md\u001b[0m\u001b[0;34m[\u001b[0m\u001b[0;34m'State'\u001b[0m\u001b[0;34m]\u001b[0m\u001b[0;34m.\u001b[0m\u001b[0mvalue_counts\u001b[0m\u001b[0;34m(\u001b[0m\u001b[0;34m)\u001b[0m\u001b[0;34m\u001b[0m\u001b[0m\n",
      "\u001b[0;32m~/miniconda3/lib/python3.6/site-packages/pandas/core/generic.py\u001b[0m in \u001b[0;36msample\u001b[0;34m(self, n, frac, replace, weights, random_state, axis)\u001b[0m\n\u001b[1;32m   2898\u001b[0m                              \"provide positive value.\")\n\u001b[1;32m   2899\u001b[0m \u001b[0;34m\u001b[0m\u001b[0m\n\u001b[0;32m-> 2900\u001b[0;31m         \u001b[0mlocs\u001b[0m \u001b[0;34m=\u001b[0m \u001b[0mrs\u001b[0m\u001b[0;34m.\u001b[0m\u001b[0mchoice\u001b[0m\u001b[0;34m(\u001b[0m\u001b[0maxis_length\u001b[0m\u001b[0;34m,\u001b[0m \u001b[0msize\u001b[0m\u001b[0;34m=\u001b[0m\u001b[0mn\u001b[0m\u001b[0;34m,\u001b[0m \u001b[0mreplace\u001b[0m\u001b[0;34m=\u001b[0m\u001b[0mreplace\u001b[0m\u001b[0;34m,\u001b[0m \u001b[0mp\u001b[0m\u001b[0;34m=\u001b[0m\u001b[0mweights\u001b[0m\u001b[0;34m)\u001b[0m\u001b[0;34m\u001b[0m\u001b[0m\n\u001b[0m\u001b[1;32m   2901\u001b[0m         \u001b[0;32mreturn\u001b[0m \u001b[0mself\u001b[0m\u001b[0;34m.\u001b[0m\u001b[0mtake\u001b[0m\u001b[0;34m(\u001b[0m\u001b[0mlocs\u001b[0m\u001b[0;34m,\u001b[0m \u001b[0maxis\u001b[0m\u001b[0;34m=\u001b[0m\u001b[0maxis\u001b[0m\u001b[0;34m,\u001b[0m \u001b[0mis_copy\u001b[0m\u001b[0;34m=\u001b[0m\u001b[0;32mFalse\u001b[0m\u001b[0;34m)\u001b[0m\u001b[0;34m\u001b[0m\u001b[0m\n\u001b[1;32m   2902\u001b[0m \u001b[0;34m\u001b[0m\u001b[0m\n",
      "\u001b[0;32mmtrand.pyx\u001b[0m in \u001b[0;36mmtrand.RandomState.choice (numpy/random/mtrand/mtrand.c:17104)\u001b[0;34m()\u001b[0m\n",
      "\u001b[0;31mValueError\u001b[0m: a must be greater than 0"
     ]
    }
   ],
   "source": [
    "d = moviegoers.merge(zipcodes, how = 'inner', left_on = 'zip_code', right_on = 'Zipcode')\n",
    "d.sample(1)\n",
    "d['State'].value_counts()"
   ]
  },
  {
   "cell_type": "markdown",
   "metadata": {},
   "source": [
    "### Part 4: Merge both data sets into a single combined DataFrame\n",
    "\n",
    "Finally, produce the desired output a list of states and counts of movie goers from the survey in each state.\n",
    "\n",
    "Here's the top 5 for reference:\n",
    "\n",
    "```\n",
    "CA    116\n",
    "MN     78\n",
    "NY     60\n",
    "TX     51\n",
    "IL     50\n",
    "```"
   ]
  },
  {
   "cell_type": "markdown",
   "metadata": {},
   "source": [
    "## Reminder of Evaluation Criteria\n",
    "\n",
    "1. What the problem attempted (analysis, code, and answered questions) ?\n",
    "2. What the problem analysis thought out? (does the program match the plan?)\n",
    "3. Does the code execute without syntax error?\n",
    "4. Does the code solve the intended problem?\n",
    "5. Is the code well written? (easy to understand, modular, and self-documenting, handles errors)\n"
   ]
  },
  {
   "cell_type": "code",
   "execution_count": null,
   "metadata": {
    "collapsed": true
   },
   "outputs": [],
   "source": []
  }
 ],
 "metadata": {
  "anaconda-cloud": {},
  "kernelspec": {
   "display_name": "Python 3",
   "language": "python",
   "name": "python3"
  },
  "language_info": {
   "codemirror_mode": {
    "name": "ipython",
    "version": 3
   },
   "file_extension": ".py",
   "mimetype": "text/x-python",
   "name": "python",
   "nbconvert_exporter": "python",
   "pygments_lexer": "ipython3",
   "version": "3.6.1"
  }
 },
 "nbformat": 4,
 "nbformat_minor": 1
}
