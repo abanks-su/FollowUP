{
 "cells": [
  {
   "cell_type": "code",
   "execution_count": 72,
   "metadata": {
    "collapsed": true
   },
   "outputs": [],
   "source": [
    "import requests\n",
    "import json \n",
    "\n",
    "access_tokens = ['4716027599.b0516d9.8d4424ecceb4450496f1ac2610b6d38c', \n",
    "                 '19725156.e0f7bcd.0d8af002c91d4bc2b191e29f9c20e427', \n",
    "                 '54890016.29e83e3.4434b31725404d14b17d26bac226f10a', \n",
    "                 '53030514.303ffc1.f77075cd2f04443aa07ebf4bfe76d2bc',\n",
    "                 '26357842.22c9b22.701d5f115804494ab00e0635fd9ed4e8']\n",
    "\n",
    "def searchUsers(word):\n",
    "    for i in range(0,len(access_tokens)):\n",
    "        url = 'https://api.instagram.com/v1/users/'+ access_tokens[i][:access_tokens[i].find('.')] + '/media/recent/?access_token='+ access_tokens[i]\n",
    "        response = requests.get(url)\n",
    "        geodip = response.json()\n",
    "\n",
    "        if geodip['data'][0]['user']['username'] == word:\n",
    "            for i in range(0,20):\n",
    "                print(geodip['data'][i]['images']['standard_resolution']['url'])\n",
    "\n",
    "def searchCaption(word):\n",
    "    for i in range(0,len(access_tokens)):\n",
    "        url = 'https://api.instagram.com/v1/users/'+ access_tokens[i][:access_tokens[i].find('.')] + '/media/recent/?access_token='+ access_tokens[i]\n",
    "        response = requests.get(url)\n",
    "        geodip = response.json()\n",
    "\n",
    "        for i in range(0,10):\n",
    "            try:\n",
    "                if geodip['data'][i]['caption']['text'].lower().find(word.lower()) > -1:\n",
    "\n",
    "                    print(\"Username: @\" + geodip['data'][0]['user']['username'])\n",
    "                    print(\"Caption: \" + geodip['data'][i]['caption']['text'])\n",
    "                    print(\"Picture: \" + geodip['data'][i]['images']['standard_resolution']['url'])\n",
    "\n",
    "            except TypeError: \n",
    "                i = i + 1\n",
    "\n",
    "def searchBio(word):\n",
    "    for i in range(0,len(access_tokens)):\n",
    "        url = 'https://api.instagram.com/v1/users/self/?access_token='+ access_tokens[i]\n",
    "        response = requests.get(url)\n",
    "        geodip = response.json()\n",
    "        bio = (geodip['data']['bio'])\n",
    "        if bio.lower().find(word.lower()) > -1:\n",
    "            print ('Username: @' + geodip['data']['username'])\n",
    "            print ('Bio: ' + geodip['data']['bio'])\n",
    "            \n",
    "def searchLocation(word):          \n",
    "    for i in range(0,len(access_tokens)):\n",
    "        url = 'https://api.instagram.com/v1/users/'+ access_tokens[i][:access_tokens[i].find('.')] + '/media/recent/?access_token='+ access_tokens[i]\n",
    "        response = requests.get(url)\n",
    "        geodip = response.json()\n",
    "\n",
    "        for i in range(0,10):\n",
    "            try:\n",
    "                if geodip['data'][i]['location']['name'].lower().find(word.lower()) > -1:\n",
    "\n",
    "                    print('UserName: @' + geodip['data'][0]['user']['username'])\n",
    "                    print(geodip['data'][i]['location']['name'])\n",
    "                    print(geodip['data'][i]['images']['standard_resolution']['url'])\n",
    "\n",
    "            except TypeError: \n",
    "                i = i + 1 \n",
    "            \n",
    "def greaterSearchLikes(number):           \n",
    "    for i in range(0,len(access_tokens)):\n",
    "        url = 'https://api.instagram.com/v1/users/'+ access_tokens[i][:access_tokens[i].find('.')] + '/media/recent/?access_token='+ access_tokens[i]\n",
    "        response = requests.get(url)\n",
    "        geodip = response.json()\n",
    "        \n",
    "        for i in range(0,10):\n",
    "            if int(geodip['data'][i]['likes']['count']) > int(number):\n",
    "                print('UserName: @' + geodip['data'][0]['user']['username'])\n",
    "                print(geodip['data'][i]['likes']['count'])\n",
    "                print(geodip['data'][i]['images']['standard_resolution']['url'])\n",
    "\n",
    "\n",
    "def lesserSearchLikes(number):           \n",
    "    for i in range(0,len(access_tokens)):\n",
    "        url = 'https://api.instagram.com/v1/users/'+ access_tokens[i][:access_tokens[i].find('.')] + '/media/recent/?access_token='+ access_tokens[i]\n",
    "        response = requests.get(url)\n",
    "        geodip = response.json()\n",
    "\n",
    "        for i in range(0,10):\n",
    "            if int(geodip['data'][i]['likes']['count']) < int(number):\n",
    "                print('UserName: @' + geodip['data'][0]['user']['username'])\n",
    "                print(geodip['data'][i]['likes']['count'])\n",
    "                print(geodip['data'][i]['images']['standard_resolution']['url'])\n",
    "                \n",
    "def equalSearchLikes(number):           \n",
    "    for i in range(0,len(access_tokens)):\n",
    "        url = 'https://api.instagram.com/v1/users/'+ access_tokens[i][:access_tokens[i].find('.')] + '/media/recent/?access_token='+ access_tokens[i]\n",
    "        response = requests.get(url)\n",
    "        geodip = response.json()\n",
    "\n",
    "        for i in range(0,10):\n",
    "            if int(geodip['data'][i]['likes']['count']) == int(number):\n",
    "                print('UserName: @' + geodip['data'][0]['user']['username'])\n",
    "                print(geodip['data'][i]['likes']['count'])\n",
    "                print(geodip['data'][i]['images']['standard_resolution']['url'])"
   ]
  },
  {
   "cell_type": "code",
   "execution_count": 88,
   "metadata": {},
   "outputs": [
    {
     "name": "stdout",
     "output_type": "stream",
     "text": [
      "Look through Bios to find Instagram Users that have similar interest as you\n",
      "Input a word or phrase to search for: cuse\n",
      "Username: @arubanks\n",
      "Bio: |0:Brooklyn.Syracuse:||\n",
      "Username: @camibencosme\n",
      "Bio: Syracuse University | DR\n",
      "Username: @jada_shawna\n",
      "Bio: James 2:26 • Dancer • Cuse '19🍊•\n",
      "\"I'm an old soul with a young spirit\"💫\n",
      "Input a word or phrase to search for: quit\n"
     ]
    }
   ],
   "source": [
    "print('Look through Bios to find Instagram Users that have similar interest as you')\n",
    "\n",
    "#Good words to search for: Cuse, SU, '19, 🍊\n",
    "\n",
    "while True:\n",
    "    word = input(\"Input a word or phrase to search for: \")\n",
    "    searchBio(word)\n",
    "    \n",
    "    if word == 'quit':\n",
    "        break\n",
    "    "
   ]
  },
  {
   "cell_type": "code",
   "execution_count": null,
   "metadata": {},
   "outputs": [],
   "source": [
    "print('Look through a FollowUp users Instagram pictures')\n",
    "\n",
    "# Keywords to search for: arubanks, camibencosme, thatguylarry, jada_shawna, _jumpmandre\n",
    "\n",
    "while True:\n",
    "    word = input(\"Input a user name: \")\n",
    "    searchUsers(word)\n",
    "    \n",
    "    if word == 'quit':\n",
    "        break"
   ]
  },
  {
   "cell_type": "code",
   "execution_count": 90,
   "metadata": {},
   "outputs": [
    {
     "name": "stdout",
     "output_type": "stream",
     "text": [
      "Look for Instagram pictures taken at a specific location\n",
      "Input a user name: Syracuse\n",
      "UserName: @jada_shawna\n",
      "Syracuse University\n",
      "https://scontent.cdninstagram.com/t51.2885-15/sh0.08/e35/p640x640/24254500_151649595458088_492293979010760704_n.jpg\n",
      "UserName: @jada_shawna\n",
      "Syracuse University\n",
      "https://scontent.cdninstagram.com/t51.2885-15/sh0.08/e35/p640x640/24127123_128568354505343_6301139003768832000_n.jpg\n",
      "UserName: @jada_shawna\n",
      "Syracuse University\n",
      "https://scontent.cdninstagram.com/t51.2885-15/sh0.08/e35/p640x640/23279924_399634160454374_3777069715562692608_n.jpg\n",
      "UserName: @jada_shawna\n",
      "Syracuse University\n",
      "https://scontent.cdninstagram.com/t51.2885-15/sh0.08/e35/p640x640/22857470_1960476427498587_5737613606334234624_n.jpg\n",
      "Input a user name: quit\n"
     ]
    }
   ],
   "source": [
    "print('Look for Instagram pictures taken at a specific location')\n",
    "\n",
    "# Keywords to search for: Syracuse, Carrier Dome, Los Angeles, New York, Boston\n",
    "\n",
    "while True:\n",
    "    word = input(\"Input a user name: \")\n",
    "    searchLocation(word)\n",
    "    \n",
    "    if word == 'quit':\n",
    "        break"
   ]
  },
  {
   "cell_type": "code",
   "execution_count": null,
   "metadata": {},
   "outputs": [],
   "source": [
    "print('Look for Instagram pictures by caption')\n",
    "\n",
    "# Keywords to search for: Just go for it\n",
    "\n",
    "while True:\n",
    "    word = input(\"Input a caption: \")\n",
    "    searchCaption(word)\n",
    "    \n",
    "    if word == 'quit':\n",
    "        break"
   ]
  },
  {
   "cell_type": "code",
   "execution_count": null,
   "metadata": {},
   "outputs": [
    {
     "name": "stdout",
     "output_type": "stream",
     "text": [
      "Search for Instagram pictures by likes\n",
      "Input a number and we'll show you all the photos that have more than that amount of likes: 200\n",
      "UserName: @jada_shawna\n",
      "220\n",
      "https://scontent.cdninstagram.com/t51.2885-15/sh0.08/e35/p640x640/24127123_128568354505343_6301139003768832000_n.jpg\n"
     ]
    }
   ],
   "source": [
    "print('Search for Instagram pictures by likes')\n",
    "\n",
    "# Keywords to search for: Just go for it\n",
    "try:\n",
    "    while True:\n",
    "        word = input(\"Input a number and we'll show you all the photos that have more than that amount of likes: \")\n",
    "        greaterSearchLikes(word)\n",
    "\n",
    "        if word == 'quit':\n",
    "            break\n",
    "except ValueError: \n",
    "    print('Enter a number')"
   ]
  },
  {
   "cell_type": "code",
   "execution_count": null,
   "metadata": {
    "collapsed": true
   },
   "outputs": [],
   "source": [
    "print('Search for Instagram pictures by likes')\n",
    "\n",
    "# Keywords to search for: Just go for it\n",
    "try:\n",
    "    while True:\n",
    "        word = input(\"Input a number and we'll show you all the photos that have less than that amount of likes: \")\n",
    "        lesserSearchLikes(word)\n",
    "\n",
    "        if word == 'quit':\n",
    "            break\n",
    "except ValueError: \n",
    "    print('Enter a number')"
   ]
  },
  {
   "cell_type": "code",
   "execution_count": null,
   "metadata": {
    "collapsed": true
   },
   "outputs": [],
   "source": [
    "print('Search for Instagram pictures by likes')\n",
    "\n",
    "# Keywords to search for: Just go for it\n",
    "try:\n",
    "    while True:\n",
    "        word = input(\"Input a number and we'll show you all the photos that have less than that amount of likes: \")\n",
    "        equalSearchLikes(word)\n",
    "\n",
    "        if word == 'quit':\n",
    "            break\n",
    "except ValueError: \n",
    "    print('Enter a number')"
   ]
  },
  {
   "cell_type": "code",
   "execution_count": null,
   "metadata": {
    "collapsed": true
   },
   "outputs": [],
   "source": []
  }
 ],
 "metadata": {
  "kernelspec": {
   "display_name": "Python 3",
   "language": "python",
   "name": "python3"
  },
  "language_info": {
   "codemirror_mode": {
    "name": "ipython",
    "version": 3
   },
   "file_extension": ".py",
   "mimetype": "text/x-python",
   "name": "python",
   "nbconvert_exporter": "python",
   "pygments_lexer": "ipython3",
   "version": "3.6.1"
  }
 },
 "nbformat": 4,
 "nbformat_minor": 2
}
