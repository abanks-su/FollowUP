{
 "cells": [
  {
   "cell_type": "markdown",
   "metadata": {},
   "source": [
    "# Now You Code 2: Paint Pricing\n",
    "\n",
    "House Depot, a big-box hardware retailer, has contracted you to create an app to calculate paint prices. \n",
    "\n",
    "The price of paint is determined by the following factors:\n",
    "- Everyday quality paint is `$19.99` per gallon.\n",
    "- Select quality paint is `$24.99` per gallon.\n",
    "- Premium quality paint is `$32.99` per gallon.\n",
    "\n",
    "In addition if the customer wants computerized color-matching that incurs an additional fee of `$4.99` per gallon. \n",
    "\n",
    "Write a program to ask the user to select a paint quality: 'everyday', 'select' or 'premium' and then whether they need color matching and then outputs the price per gallon of the paint.\n",
    "\n",
    "Example Run 1:\n",
    "\n",
    "```\n",
    "Which paint quality do you require ['everyday', 'select', 'premium'] ?select\n",
    "Do you require color matching [y/n] ?y\n",
    "Total price of select paint with color matching is $29.98\n",
    "```\n",
    "\n",
    "Example Run 2:\n",
    "\n",
    "```\n",
    "Which paint quality do you require ['everyday', 'select', 'premium'] ?premium\n",
    "Do you require color matching [y/n] ?n\n",
    "Total price of premium paint without color matching is $32.99\n",
    "```"
   ]
  },
  {
   "cell_type": "markdown",
   "metadata": {
    "collapsed": true
   },
   "source": [
    "## Step 1: Problem Analysis\n",
    "\n",
    "Inputs: Paint Quality:['everyday', 'select', 'premium'] and Color Matching:[y/n]\n",
    "\n",
    "Outputs: Total price of paint with or without color matching\n",
    "\n",
    "Algorithm (Steps in Program):\n",
    "Input Paint Quality\n",
    "Check which Paint was chosen \n",
    "If everyday the total is 19.99\n",
    "If select the total us 24.99\n",
    "If premium the total is 32.99\n",
    "Input Color Matching\n",
    "Check if Color Matching is yes or no\n",
    "If yes add 4.99 to the total\n",
    "Print total\n",
    "\n"
   ]
  },
  {
   "cell_type": "code",
   "execution_count": 53,
   "metadata": {},
   "outputs": [
    {
     "name": "stdout",
     "output_type": "stream",
     "text": [
      "Enter your choice of paint quality everyday, select, or premium: select\n",
      "Do you require color matching [y/n]: dick\n",
      "You must enter y or n\n"
     ]
    }
   ],
   "source": [
    "paint = ['everyday','select','premium']\n",
    "colorMatching = ['y','n']\n",
    "total = 0.0;\n",
    "\n",
    "you = input(\"Enter your choice of paint quality everyday, select, or premium: \")\n",
    "\n",
    "if(you in paint):\n",
    "    if (you == 'everyday'):\n",
    "        total = 19.99;\n",
    "    elif (you == 'select'):\n",
    "         total = 24.99;\n",
    "    elif (you == 'premium'):\n",
    "        total = 32.99;\n",
    "        \n",
    "        \n",
    "    you2 = input(\"Do you require color matching [y/n]: \")\n",
    "    if(you2 in colorMatching):\n",
    "        if (you2 == 'y'):\n",
    "            total = total + 4.99;\n",
    "            \n",
    "        print(\"Total price of %s paint without color matching is %0.2f\" % (you, total))\n",
    "        \n",
    "    else: \n",
    "        print(\"You must enter y or n\")   \n",
    "    \n",
    "else: \n",
    "    print(\"That is not a paint quality\")   \n",
    " "
   ]
  },
  {
   "cell_type": "markdown",
   "metadata": {},
   "source": [
    "## Step 3: Questions\n",
    "\n",
    "1. When you enter something other than `'everyday', 'select',` or  `'premium'` what happens? Modify the program to print `that is not a paint quality` and then exit in those cases.\n",
    "The program prints out 0.00\n",
    "2. What happens when you enter something other than `'y'` or `'n'` for color matching? Re-write the program to print `you must enter y or n` whenever you enter something other than those two values.\n",
    "The program still calculates the total\n",
    "3. Why can't we use Python's `try...except` in this example?\n",
    "We can't use try accept because we won't be getting an error. The program will accept our input and convert it to as string.\n"
   ]
  },
  {
   "cell_type": "markdown",
   "metadata": {},
   "source": [
    "## Reminder of Evaluation Criteria\n",
    "\n",
    "1. What the problem attempted (analysis, code, and answered questions) ?\n",
    "2. What the problem analysis thought out? (does the program match the plan?)\n",
    "3. Does the code execute without syntax error?\n",
    "4. Does the code solve the intended problem?\n",
    "5. Is the code well written? (easy to understand, modular, and self-documenting, handles errors)\n"
   ]
  },
  {
   "cell_type": "code",
   "execution_count": null,
   "metadata": {
    "collapsed": true
   },
   "outputs": [],
   "source": []
  },
  {
   "cell_type": "code",
   "execution_count": null,
   "metadata": {
    "collapsed": true
   },
   "outputs": [],
   "source": []
  }
 ],
 "metadata": {
  "anaconda-cloud": {},
  "kernelspec": {
   "display_name": "Python 3",
   "language": "python",
   "name": "python3"
  },
  "language_info": {
   "codemirror_mode": {
    "name": "ipython",
    "version": 3
   },
   "file_extension": ".py",
   "mimetype": "text/x-python",
   "name": "python",
   "nbconvert_exporter": "python",
   "pygments_lexer": "ipython3",
   "version": "3.6.1"
  }
 },
 "nbformat": 4,
 "nbformat_minor": 1
}
