{
 "cells": [
  {
   "cell_type": "code",
   "execution_count": 29,
   "metadata": {},
   "outputs": [
    {
     "name": "stdout",
     "output_type": "stream",
     "text": [
      "➕Ru 🅱️ 🅰️ N K💲\n",
      "arubanks\n",
      "https://api.instagram.com/v1/users/4716027599/media/recent/?access_token=4716027599.b0516d9.8d4424ecceb4450496f1ac2610b6d38c\n",
      "Camila Bencosme\n",
      "camibencosme\n",
      "https://api.instagram.com/v1/users/19725156/media/recent/?access_token=19725156.e0f7bcd.0d8af002c91d4bc2b191e29f9c20e427\n",
      "Larry Mikanga\n",
      "thatguylarry\n",
      "https://api.instagram.com/v1/users/54890016/media/recent/?access_token=54890016.29e83e3.4434b31725404d14b17d26bac226f10a\n",
      "J. baby❣️\n",
      "jada_shawna\n",
      "https://api.instagram.com/v1/users/53030514/media/recent/?access_token=53030514.303ffc1.f77075cd2f04443aa07ebf4bfe76d2bc\n"
     ]
    }
   ],
   "source": [
    "import requests\n",
    "import json \n",
    "\n",
    "access_tokens = ['4716027599.b0516d9.8d4424ecceb4450496f1ac2610b6d38c', \n",
    "                 '19725156.e0f7bcd.0d8af002c91d4bc2b191e29f9c20e427', \n",
    "                 '54890016.29e83e3.4434b31725404d14b17d26bac226f10a', \n",
    "                 '53030514.303ffc1.f77075cd2f04443aa07ebf4bfe76d2bc']\n",
    "\n",
    "for i in range(0,len(access_tokens)):\n",
    "    url = 'https://api.instagram.com/v1/users/'+ access_tokens[i][:access_tokens[i].find('.')] + '/media/recent/?access_token='+ access_tokens[i]\n",
    "    response = requests.get(url)\n",
    "    geodip = response.json()\n",
    "    \n",
    "    print(geodip['data'][0]['user']['full_name'])\n",
    "    print(geodip['data'][0]['user']['username'])\n",
    "    print(url)"
   ]
  },
  {
   "cell_type": "code",
   "execution_count": 71,
   "metadata": {},
   "outputs": [
    {
     "name": "stdout",
     "output_type": "stream",
     "text": [
      "Enter a word or phrase and we'll show you if any of our Instagram users have used it in their captions: bad\n",
      "Username: @camibencosme\n",
      "Caption: yo haciendole competencia a @badgalriri o sea duh\n",
      "Picture: https://scontent.cdninstagram.com/t51.2885-15/s640x640/sh0.08/e35/19625089_346317709122115_7625076528325328896_n.jpg\n",
      "Username: @camibencosme\n",
      "Caption: you a bad b, you keep getting badder\n",
      "Picture: https://scontent.cdninstagram.com/t51.2885-15/s640x640/sh0.08/e35/18723282_267964840339197_7306506309921144832_n.jpg\n",
      "Username: @jada_shawna\n",
      "Caption: She a bad Motha- Shut yo mouth!💕\n",
      "Picture: https://scontent.cdninstagram.com/t51.2885-15/sh0.08/e35/p640x640/22857470_1960476427498587_5737613606334234624_n.jpg\n"
     ]
    }
   ],
   "source": [
    "#CAPTION SEARCH\n",
    "\n",
    "import requests\n",
    "import json \n",
    "word = input(\"Enter a word or phrase and we'll show you if any of our Instagram users have used it in their captions: \")\n",
    "\n",
    "\n",
    "access_tokens = ['4716027599.b0516d9.8d4424ecceb4450496f1ac2610b6d38c', \n",
    "                 '19725156.e0f7bcd.0d8af002c91d4bc2b191e29f9c20e427', \n",
    "                 '54890016.29e83e3.4434b31725404d14b17d26bac226f10a', \n",
    "                 '53030514.303ffc1.f77075cd2f04443aa07ebf4bfe76d2bc']\n",
    "\n",
    "for i in range(0,len(access_tokens)):\n",
    "    url = 'https://api.instagram.com/v1/users/'+ access_tokens[i][:access_tokens[i].find('.')] + '/media/recent/?access_token='+ access_tokens[i]\n",
    "    response = requests.get(url)\n",
    "    geodip = response.json()\n",
    "\n",
    "    for i in range(0,10):\n",
    "        try:\n",
    "            if geodip['data'][i]['caption']['text'].lower().find(word.lower()) > -1:\n",
    "                \n",
    "                print(\"Username: @\" + geodip['data'][0]['user']['username'])\n",
    "                print(\"Caption: \" + geodip['data'][i]['caption']['text'])\n",
    "                print(\"Picture: \" + geodip['data'][i]['images']['standard_resolution']['url'])\n",
    "        \n",
    "        except TypeError: \n",
    "            i = i + 1"
   ]
  },
  {
   "cell_type": "code",
   "execution_count": 50,
   "metadata": {},
   "outputs": [
    {
     "name": "stdout",
     "output_type": "stream",
     "text": [
      "Enter a word or phrase and we'll return a list of users for you to follow: cuse\n",
      "Username: @arubanks\n",
      "Bio: |0:Brooklyn.Syracuse:||\n",
      "Username: @camibencosme\n",
      "Bio: Syracuse University | DR\n",
      "Username: @jada_shawna\n",
      "Bio: James 2:26 • Dancer • Cuse '19🍊•\n",
      "\"I'm an old soul with a young spirit\"💫\n"
     ]
    }
   ],
   "source": [
    "#USER INTEREST\n",
    "\n",
    "import requests\n",
    "import json\n",
    "word = input(\"Enter a word or phrase and we'll return a list of users for you to follow: \")\n",
    "\n",
    "access_tokens = ['4716027599.b0516d9.8d4424ecceb4450496f1ac2610b6d38c', \n",
    "                 '19725156.e0f7bcd.0d8af002c91d4bc2b191e29f9c20e427', \n",
    "                 '54890016.29e83e3.4434b31725404d14b17d26bac226f10a', \n",
    "                 '53030514.303ffc1.f77075cd2f04443aa07ebf4bfe76d2bc']\n",
    "\n",
    "for i in range(0,len(access_tokens)):\n",
    "    url = 'https://api.instagram.com/v1/users/self/?access_token='+ access_tokens[i]\n",
    "    response = requests.get(url)\n",
    "    geodip = response.json()\n",
    "    bio = (geodip['data']['bio'])\n",
    "    if bio.lower().find(word.lower()) > -1:\n",
    "        print ('Username: @' + geodip['data']['username'])\n",
    "        print ('Bio: ' + geodip['data']['bio'])\n"
   ]
  },
  {
   "cell_type": "code",
   "execution_count": 14,
   "metadata": {},
   "outputs": [
    {
     "name": "stdout",
     "output_type": "stream",
     "text": [
      "Enter a word or phrase and we'll show you if any of our Instagram users have used it in their captions: cuse\n",
      "UserName: @jada_shawna\n",
      "Syracuse University\n",
      "https://scontent.cdninstagram.com/t51.2885-15/sh0.08/e35/p640x640/24254500_151649595458088_492293979010760704_n.jpg\n",
      "UserName: @jada_shawna\n",
      "Syracuse University\n",
      "https://scontent.cdninstagram.com/t51.2885-15/sh0.08/e35/p640x640/24127123_128568354505343_6301139003768832000_n.jpg\n",
      "UserName: @jada_shawna\n",
      "Syracuse University\n",
      "https://scontent.cdninstagram.com/t51.2885-15/sh0.08/e35/p640x640/23279924_399634160454374_3777069715562692608_n.jpg\n",
      "UserName: @jada_shawna\n",
      "Syracuse University\n",
      "https://scontent.cdninstagram.com/t51.2885-15/sh0.08/e35/p640x640/22857470_1960476427498587_5737613606334234624_n.jpg\n"
     ]
    }
   ],
   "source": [
    "#LOCATION SEARCH \n",
    "\n",
    "import requests\n",
    "import json \n",
    "\n",
    "word = input(\"Enter a location an we'll show you if any of our Users have taken a picture there: \")\n",
    "\n",
    "\n",
    "access_tokens = ['4716027599.b0516d9.8d4424ecceb4450496f1ac2610b6d38c', \n",
    "                 '19725156.e0f7bcd.0d8af002c91d4bc2b191e29f9c20e427', \n",
    "                 '54890016.29e83e3.4434b31725404d14b17d26bac226f10a', \n",
    "                 '53030514.303ffc1.f77075cd2f04443aa07ebf4bfe76d2bc']\n",
    "\n",
    "for i in range(0,len(access_tokens)):\n",
    "    url = 'https://api.instagram.com/v1/users/'+ access_tokens[i][:access_tokens[i].find('.')] + '/media/recent/?access_token='+ access_tokens[i]\n",
    "    response = requests.get(url)\n",
    "    geodip = response.json()\n",
    "\n",
    "    for i in range(0,10):\n",
    "        try:\n",
    "            if geodip['data'][i]['location']['name'].lower().find(word.lower()) > -1:\n",
    "                \n",
    "                print('UserName: @' + geodip['data'][0]['user']['username'])\n",
    "                print(geodip['data'][i]['location']['name'])\n",
    "                print(geodip['data'][i]['images']['standard_resolution']['url'])\n",
    "        \n",
    "        except TypeError: \n",
    "            i = i + 1 "
   ]
  },
  {
   "cell_type": "code",
   "execution_count": 70,
   "metadata": {},
   "outputs": [
    {
     "name": "stdout",
     "output_type": "stream",
     "text": [
      "Enter an number and we'll show you all the pictures that have more than that amount of likes:150\n",
      "UserName: @thatguylarry\n",
      "182\n",
      "https://scontent.cdninstagram.com/t51.2885-15/sh0.08/e35/p640x640/24327419_317773958712502_7450363194368851968_n.jpg\n",
      "UserName: @thatguylarry\n",
      "184\n",
      "https://scontent.cdninstagram.com/t51.2885-15/sh0.08/e35/p640x640/22280405_369625170139863_8200556464717168640_n.jpg\n",
      "UserName: @thatguylarry\n",
      "153\n",
      "https://scontent.cdninstagram.com/t51.2885-15/sh0.08/e35/p640x640/20066828_1379667068736834_7244651934680875008_n.jpg\n",
      "UserName: @jada_shawna\n",
      "220\n",
      "https://scontent.cdninstagram.com/t51.2885-15/sh0.08/e35/p640x640/24127123_128568354505343_6301139003768832000_n.jpg\n",
      "UserName: @jada_shawna\n",
      "162\n",
      "https://scontent.cdninstagram.com/t51.2885-15/sh0.08/e35/p640x640/23279924_399634160454374_3777069715562692608_n.jpg\n",
      "UserName: @jada_shawna\n",
      "154\n",
      "https://scontent.cdninstagram.com/t51.2885-15/sh0.08/e35/p640x640/23098620_125454318138169_1906446763338760192_n.jpg\n",
      "UserName: @jada_shawna\n",
      "198\n",
      "https://scontent.cdninstagram.com/t51.2885-15/s640x640/sh0.08/e35/23161063_128040427958753_6957932953225658368_n.jpg\n",
      "UserName: @jada_shawna\n",
      "181\n",
      "https://scontent.cdninstagram.com/t51.2885-15/sh0.08/e35/p640x640/22857470_1960476427498587_5737613606334234624_n.jpg\n"
     ]
    }
   ],
   "source": [
    "#LIKE SEARCH \n",
    "\n",
    "import requests\n",
    "import json \n",
    "\n",
    "number = input(\"Enter an number and we'll show you all the pictures that have more than that amount of likes:\")\n",
    "\n",
    "access_tokens = ['4716027599.b0516d9.8d4424ecceb4450496f1ac2610b6d38c', \n",
    "                 '19725156.e0f7bcd.0d8af002c91d4bc2b191e29f9c20e427', \n",
    "                 '54890016.29e83e3.4434b31725404d14b17d26bac226f10a', \n",
    "                 '53030514.303ffc1.f77075cd2f04443aa07ebf4bfe76d2bc']\n",
    "\n",
    "for i in range(0,len(access_tokens)):\n",
    "    url = 'https://api.instagram.com/v1/users/'+ access_tokens[i][:access_tokens[i].find('.')] + '/media/recent/?access_token='+ access_tokens[i]\n",
    "    response = requests.get(url)\n",
    "    geodip = response.json()\n",
    "    \n",
    "    for i in range(0,10):\n",
    "        try:\n",
    "            if int(geodip['data'][i]['likes']['count']) > int(number):\n",
    "                print('UserName: @' + geodip['data'][0]['user']['username'])\n",
    "                print(geodip['data'][i]['likes']['count'])\n",
    "                print(geodip['data'][i]['images']['standard_resolution']['url'])\n",
    "                \n",
    "        except TypeError: \n",
    "            i = i + 1 \n",
    "        "
   ]
  },
  {
   "cell_type": "code",
   "execution_count": 43,
   "metadata": {},
   "outputs": [
    {
     "name": "stdout",
     "output_type": "stream",
     "text": [
      "https://scontent.cdninstagram.com/t51.2885-19/s150x150/18950423_1510566179013707_6849164555721900032_a.jpg\n",
      "https://scontent.cdninstagram.com/t51.2885-15/s640x640/sh0.08/e35/20225812_108817729781590_5116369569337835520_n.jpg\n",
      "https://scontent.cdninstagram.com/t51.2885-15/s640x640/sh0.08/e35/20225613_488179781525475_7933241647289073664_n.jpg\n",
      "https://scontent.cdninstagram.com/t51.2885-15/sh0.08/e35/p640x640/18809175_478964415778644_6285195728683794432_n.jpg\n",
      "https://scontent.cdninstagram.com/t51.2885-15/s640x640/sh0.08/e35/18812704_1682260172077741_3052621213626007552_n.jpg\n",
      "https://scontent.cdninstagram.com/t51.2885-15/s640x640/sh0.08/e35/18644913_141889069688737_56544468517519360_n.jpg\n",
      "https://scontent.cdninstagram.com/t51.2885-15/s640x640/sh0.08/e35/18513374_1665522760410477_2058310050941763584_n.jpg\n",
      "https://scontent.cdninstagram.com/t51.2885-15/s640x640/sh0.08/e35/18444122_1392006887513764_2427287268252188672_n.jpg\n",
      "https://scontent.cdninstagram.com/t51.2885-15/sh0.08/e35/p640x640/18380538_125819227973034_2189034274018033664_n.jpg\n",
      "https://scontent.cdninstagram.com/t51.2885-15/s640x640/sh0.08/e35/18298346_203678566813486_9195269593390645248_n.jpg\n",
      "https://scontent.cdninstagram.com/t51.2885-15/s640x640/sh0.08/e35/18095996_793789630795209_6189121321771728896_n.jpg\n",
      "https://scontent.cdninstagram.com/t51.2885-15/s640x640/sh0.08/e35/17882911_193961511116695_884283579553546240_n.jpg\n",
      "https://scontent.cdninstagram.com/t51.2885-15/s640x640/sh0.08/e35/17819108_298188127278799_3614707685347295232_n.jpg\n",
      "https://scontent.cdninstagram.com/t51.2885-15/s640x640/sh0.08/e35/17494867_1485623501461960_904199566243397632_n.jpg\n",
      "https://scontent.cdninstagram.com/t51.2885-15/sh0.08/e35/p640x640/17663320_309252932827654_9123605358227488768_n.jpg\n",
      "https://scontent.cdninstagram.com/t51.2885-15/s640x640/sh0.08/e35/17662448_413403629027831_4258974619655995392_n.jpg\n",
      "https://scontent.cdninstagram.com/t51.2885-15/s640x640/sh0.08/e35/17586937_1926920167537344_8126302140936224768_n.jpg\n",
      "https://scontent.cdninstagram.com/t51.2885-15/s640x640/sh0.08/e35/17438182_250981428643662_4465023128765988864_n.jpg\n",
      "https://scontent.cdninstagram.com/t51.2885-15/s640x640/sh0.08/e35/17437989_577958035748261_9093810852267556864_n.jpg\n",
      "https://scontent.cdninstagram.com/t51.2885-15/s640x640/sh0.08/e35/17265884_404049086627734_5831737651417317376_n.jpg\n",
      "https://scontent.cdninstagram.com/t51.2885-15/s640x640/sh0.08/e35/17126265_858338790981609_8905910336624787456_n.jpg\n",
      "https://scontent.cdninstagram.com/t51.2885-15/sh0.08/e35/p640x640/23164718_135633063862529_1503806408406073344_n.jpg\n",
      "https://scontent.cdninstagram.com/t51.2885-15/s640x640/sh0.08/e35/23164058_399359387149255_8916317385980379136_n.jpg\n",
      "https://scontent.cdninstagram.com/t51.2885-15/sh0.08/e35/p640x640/22802562_323433744790424_6050479893420965888_n.jpg\n",
      "https://scontent.cdninstagram.com/t51.2885-15/sh0.08/e35/p640x640/21480007_171574433409062_1927411735661117440_n.jpg\n",
      "https://scontent.cdninstagram.com/t51.2885-15/sh0.08/e35/p640x640/20065632_1731360423829558_503476682280140800_n.jpg\n",
      "https://scontent.cdninstagram.com/t51.2885-15/s640x640/sh0.08/e35/19625089_346317709122115_7625076528325328896_n.jpg\n",
      "https://scontent.cdninstagram.com/t51.2885-15/s640x640/sh0.08/e35/18723282_267964840339197_7306506309921144832_n.jpg\n",
      "https://scontent.cdninstagram.com/t51.2885-15/sh0.08/e35/p640x640/18579744_1201396653339436_3878572166567952384_n.jpg\n",
      "https://scontent.cdninstagram.com/t51.2885-15/s640x640/sh0.08/e35/18161298_456812724702132_5022281614864941056_n.jpg\n",
      "https://scontent.cdninstagram.com/t51.2885-15/e15/17932017_457390044596874_5953658084889985024_n.jpg\n",
      "https://scontent.cdninstagram.com/t51.2885-15/sh0.08/e35/p640x640/17333871_1509373502414867_8517940056671911936_n.jpg\n",
      "https://scontent.cdninstagram.com/t51.2885-15/sh0.08/e35/p640x640/17332970_1948181068745071_8213005440309526528_n.jpg\n",
      "https://scontent.cdninstagram.com/t51.2885-15/s640x640/e15/16906379_1146617792116870_1708379437336100864_n.jpg\n",
      "https://scontent.cdninstagram.com/t51.2885-15/sh0.08/e35/p640x640/16583763_604495809743335_8807747686548635648_n.jpg\n",
      "https://scontent.cdninstagram.com/t51.2885-15/s640x640/sh0.08/e35/16464241_1875420376009314_3656416546550448128_n.jpg\n",
      "https://scontent.cdninstagram.com/t51.2885-15/sh0.08/e35/p640x640/16585615_1217193898329925_4712795759097937920_n.jpg\n",
      "https://scontent.cdninstagram.com/t51.2885-15/sh0.08/e35/p640x640/16464460_1846730742269105_4839701734773227520_n.jpg\n",
      "https://scontent.cdninstagram.com/t51.2885-15/sh0.08/e35/p640x640/16230315_764829883671847_1932782630919471104_n.jpg\n",
      "https://scontent.cdninstagram.com/t51.2885-15/sh0.08/e35/p640x640/15876000_808733312600108_4315307896041635840_n.jpg\n",
      "https://scontent.cdninstagram.com/t51.2885-15/sh0.08/e35/p640x640/14590921_1104095519717227_7343100496434954240_n.jpg\n"
     ]
    }
   ],
   "source": [
    "import requests\n",
    "import json \n",
    "\n",
    "url = 'https://api.instagram.com/v1/users/self/?access_token=4716027599.b0516d9.8d4424ecceb4450496f1ac2610b6d38c'\n",
    "response = requests.get(url)\n",
    "geodip = response.json()\n",
    "print(geodip['data']['profile_picture'])\n",
    "\n",
    "url = 'https://api.instagram.com/v1/users/4716027599/media/recent/?access_token=4716027599.b0516d9.8d4424ecceb4450496f1ac2610b6d38c'\n",
    "response = requests.get(url)\n",
    "geodip = response.json()\n",
    "\n",
    "for i in range(0,20):\n",
    "    print(geodip['data'][i]['images']['standard_resolution']['url'])\n",
    "\n",
    "url = 'https://api.instagram.com/v1/users/19725156/media/recent/?access_token=19725156.e0f7bcd.0d8af002c91d4bc2b191e29f9c20e427'\n",
    "response = requests.get(url)\n",
    "geodip = response.json()\n",
    "\n",
    "for i in range(0,20):\n",
    "    print(geodip['data'][i]['images']['standard_resolution']['url'])"
   ]
  },
  {
   "cell_type": "code",
   "execution_count": 54,
   "metadata": {},
   "outputs": [
    {
     "name": "stdout",
     "output_type": "stream",
     "text": [
      "{'id': '1566331633823686299_4716027599', 'user': {'id': '4716027599', 'full_name': '➕Ru 🅱️ 🅰️ N K💲', 'profile_picture': 'https://scontent.cdninstagram.com/t51.2885-19/s150x150/18950423_1510566179013707_6849164555721900032_a.jpg', 'username': 'arubanks'}, 'images': {'thumbnail': {'width': 150, 'height': 150, 'url': 'https://scontent.cdninstagram.com/t51.2885-15/s150x150/e35/20225812_108817729781590_5116369569337835520_n.jpg'}, 'low_resolution': {'width': 320, 'height': 320, 'url': 'https://scontent.cdninstagram.com/t51.2885-15/s320x320/e35/20225812_108817729781590_5116369569337835520_n.jpg'}, 'standard_resolution': {'width': 640, 'height': 640, 'url': 'https://scontent.cdninstagram.com/t51.2885-15/s640x640/sh0.08/e35/20225812_108817729781590_5116369569337835520_n.jpg'}}, 'created_time': '1500941302', 'caption': {'id': '17897102101041568', 'text': '🦇atman', 'created_time': '1500941302', 'from': {'id': '4716027599', 'full_name': '➕Ru 🅱️ 🅰️ N K💲', 'profile_picture': 'https://scontent.cdninstagram.com/t51.2885-19/s150x150/18950423_1510566179013707_6849164555721900032_a.jpg', 'username': 'arubanks'}}, 'user_has_liked': False, 'likes': {'count': 81}, 'tags': [], 'filter': 'Clarendon', 'comments': {'count': 11}, 'type': 'image', 'link': 'https://www.instagram.com/p/BW8ulJ6hJ6b/', 'location': None, 'attribution': None, 'users_in_photo': []}\n",
      "{'id': '1566331172886447045_4716027599', 'user': {'id': '4716027599', 'full_name': '➕Ru 🅱️ 🅰️ N K💲', 'profile_picture': 'https://scontent.cdninstagram.com/t51.2885-19/s150x150/18950423_1510566179013707_6849164555721900032_a.jpg', 'username': 'arubanks'}, 'images': {'thumbnail': {'width': 150, 'height': 150, 'url': 'https://scontent.cdninstagram.com/t51.2885-15/s150x150/e35/c150.0.780.780/20225613_488179781525475_7933241647289073664_n.jpg'}, 'low_resolution': {'width': 320, 'height': 231, 'url': 'https://scontent.cdninstagram.com/t51.2885-15/s320x320/e35/20225613_488179781525475_7933241647289073664_n.jpg'}, 'standard_resolution': {'width': 640, 'height': 462, 'url': 'https://scontent.cdninstagram.com/t51.2885-15/s640x640/sh0.08/e35/20225613_488179781525475_7933241647289073664_n.jpg'}}, 'created_time': '1500941248', 'caption': {'id': '17866450132149587', 'text': '🌃', 'created_time': '1500941248', 'from': {'id': '4716027599', 'full_name': '➕Ru 🅱️ 🅰️ N K💲', 'profile_picture': 'https://scontent.cdninstagram.com/t51.2885-19/s150x150/18950423_1510566179013707_6849164555721900032_a.jpg', 'username': 'arubanks'}}, 'user_has_liked': False, 'likes': {'count': 78}, 'tags': [], 'filter': 'Clarendon', 'comments': {'count': 3}, 'type': 'image', 'link': 'https://www.instagram.com/p/BW8uecohIPF/', 'location': None, 'attribution': None, 'users_in_photo': []}\n",
      "{'id': '1529998225308913598_4716027599', 'user': {'id': '4716027599', 'full_name': '➕Ru 🅱️ 🅰️ N K💲', 'profile_picture': 'https://scontent.cdninstagram.com/t51.2885-19/s150x150/18950423_1510566179013707_6849164555721900032_a.jpg', 'username': 'arubanks'}, 'images': {'thumbnail': {'width': 150, 'height': 150, 'url': 'https://scontent.cdninstagram.com/t51.2885-15/s150x150/e35/c0.135.1080.1080/18809175_478964415778644_6285195728683794432_n.jpg'}, 'low_resolution': {'width': 320, 'height': 400, 'url': 'https://scontent.cdninstagram.com/t51.2885-15/e35/p320x320/18809175_478964415778644_6285195728683794432_n.jpg'}, 'standard_resolution': {'width': 640, 'height': 800, 'url': 'https://scontent.cdninstagram.com/t51.2885-15/sh0.08/e35/p640x640/18809175_478964415778644_6285195728683794432_n.jpg'}}, 'created_time': '1496610023', 'caption': {'id': '17858013787160111', 'text': '\"Aru is first place in EverWing\"', 'created_time': '1496610023', 'from': {'id': '4716027599', 'full_name': '➕Ru 🅱️ 🅰️ N K💲', 'profile_picture': 'https://scontent.cdninstagram.com/t51.2885-19/s150x150/18950423_1510566179013707_6849164555721900032_a.jpg', 'username': 'arubanks'}}, 'user_has_liked': False, 'likes': {'count': 106}, 'tags': [], 'filter': 'Clarendon', 'comments': {'count': 4}, 'type': 'image', 'link': 'https://www.instagram.com/p/BU7pUeWhA--/', 'location': {'latitude': 40.809033333333, 'longitude': -73.948372222222, 'name': 'Harlem', 'id': 212996854}, 'attribution': None, 'users_in_photo': [{'user': {'id': '5459169319', 'full_name': 'Lito Visuals (Paul Ramirez)', 'profile_picture': 'https://scontent.cdninstagram.com/t51.2885-19/s150x150/21984549_129880564421263_1037650543796813824_n.jpg', 'username': 'lito.visuals'}, 'position': {'x': 0.9346405193209648, 'y': 0.9066666666666666}}]}\n",
      "{'id': '1529322784701212564_4716027599', 'user': {'id': '4716027599', 'full_name': '➕Ru 🅱️ 🅰️ N K💲', 'profile_picture': 'https://scontent.cdninstagram.com/t51.2885-19/s150x150/18950423_1510566179013707_6849164555721900032_a.jpg', 'username': 'arubanks'}, 'images': {'thumbnail': {'width': 150, 'height': 150, 'url': 'https://scontent.cdninstagram.com/t51.2885-15/s150x150/e35/c1.0.1078.1078/18812704_1682260172077741_3052621213626007552_n.jpg'}, 'low_resolution': {'width': 320, 'height': 319, 'url': 'https://scontent.cdninstagram.com/t51.2885-15/s320x320/e35/18812704_1682260172077741_3052621213626007552_n.jpg'}, 'standard_resolution': {'width': 640, 'height': 638, 'url': 'https://scontent.cdninstagram.com/t51.2885-15/s640x640/sh0.08/e35/18812704_1682260172077741_3052621213626007552_n.jpg'}}, 'created_time': '1496529504', 'caption': {'id': '17876058235070120', 'text': 'Lookin like that guy I dont like', 'created_time': '1496529504', 'from': {'id': '4716027599', 'full_name': '➕Ru 🅱️ 🅰️ N K💲', 'profile_picture': 'https://scontent.cdninstagram.com/t51.2885-19/s150x150/18950423_1510566179013707_6849164555721900032_a.jpg', 'username': 'arubanks'}}, 'user_has_liked': False, 'likes': {'count': 79}, 'tags': [], 'filter': 'Lo-fi', 'comments': {'count': 5}, 'type': 'image', 'link': 'https://www.instagram.com/p/BU5PvhRBueU/', 'location': {'latitude': 40.726255428333, 'longitude': -73.996144275, 'name': 'NoHo', 'id': 255006885}, 'attribution': None, 'users_in_photo': [{'user': {'id': '5459169319', 'full_name': 'Lito Visuals (Paul Ramirez)', 'profile_picture': 'https://scontent.cdninstagram.com/t51.2885-19/s150x150/21984549_129880564421263_1037650543796813824_n.jpg', 'username': 'lito.visuals'}, 'position': {'x': 0.1866666666666667, 'y': 0.93048128342246}}]}\n",
      "{'id': '1519784481517755445_4716027599', 'user': {'id': '4716027599', 'full_name': '➕Ru 🅱️ 🅰️ N K💲', 'profile_picture': 'https://scontent.cdninstagram.com/t51.2885-19/s150x150/18950423_1510566179013707_6849164555721900032_a.jpg', 'username': 'arubanks'}, 'images': {'thumbnail': {'width': 150, 'height': 150, 'url': 'https://scontent.cdninstagram.com/t51.2885-15/s150x150/e35/18644913_141889069688737_56544468517519360_n.jpg'}, 'low_resolution': {'width': 320, 'height': 320, 'url': 'https://scontent.cdninstagram.com/t51.2885-15/s320x320/e35/18644913_141889069688737_56544468517519360_n.jpg'}, 'standard_resolution': {'width': 640, 'height': 640, 'url': 'https://scontent.cdninstagram.com/t51.2885-15/s640x640/sh0.08/e35/18644913_141889069688737_56544468517519360_n.jpg'}}, 'created_time': '1495392450', 'caption': {'id': '17867160280083466', 'text': 'Had to cool off cuz this girl just said \"Aru\\'s hot!\"', 'created_time': '1495392450', 'from': {'id': '4716027599', 'full_name': '➕Ru 🅱️ 🅰️ N K💲', 'profile_picture': 'https://scontent.cdninstagram.com/t51.2885-19/s150x150/18950423_1510566179013707_6849164555721900032_a.jpg', 'username': 'arubanks'}}, 'user_has_liked': False, 'likes': {'count': 118}, 'tags': [], 'filter': 'Normal', 'comments': {'count': 17}, 'type': 'carousel', 'link': 'https://www.instagram.com/p/BUXW-8MBFw1/', 'location': {'latitude': 40.726255428333, 'longitude': -73.996144275, 'name': 'NoHo', 'id': 255006885}, 'attribution': None, 'users_in_photo': [{'user': {'id': '5459169319', 'full_name': 'Lito Visuals (Paul Ramirez)', 'profile_picture': 'https://scontent.cdninstagram.com/t51.2885-19/s150x150/21984549_129880564421263_1037650543796813824_n.jpg', 'username': 'lito.visuals'}, 'position': {'x': 0.06535948067903519, 'y': 0.94}}], 'carousel_media': [{'images': {'thumbnail': {'width': 150, 'height': 150, 'url': 'https://scontent.cdninstagram.com/t51.2885-15/s150x150/e35/18644913_141889069688737_56544468517519360_n.jpg'}, 'low_resolution': {'width': 320, 'height': 320, 'url': 'https://scontent.cdninstagram.com/t51.2885-15/s320x320/e35/18644913_141889069688737_56544468517519360_n.jpg'}, 'standard_resolution': {'width': 640, 'height': 640, 'url': 'https://scontent.cdninstagram.com/t51.2885-15/s640x640/sh0.08/e35/18644913_141889069688737_56544468517519360_n.jpg'}}, 'users_in_photo': [{'user': {'id': '5459169319', 'full_name': 'Lito Visuals (Paul Ramirez)', 'profile_picture': 'https://scontent.cdninstagram.com/t51.2885-19/s150x150/21984549_129880564421263_1037650543796813824_n.jpg', 'username': 'lito.visuals'}, 'position': {'x': 0.06535948067903519, 'y': 0.94}}], 'type': 'image'}, {'images': {'thumbnail': {'width': 150, 'height': 150, 'url': 'https://scontent.cdninstagram.com/t51.2885-15/s150x150/e35/18579626_391593164574454_1238442055886176256_n.jpg'}, 'low_resolution': {'width': 320, 'height': 320, 'url': 'https://scontent.cdninstagram.com/t51.2885-15/s320x320/e35/18579626_391593164574454_1238442055886176256_n.jpg'}, 'standard_resolution': {'width': 640, 'height': 640, 'url': 'https://scontent.cdninstagram.com/t51.2885-15/s640x640/sh0.08/e35/18579626_391593164574454_1238442055886176256_n.jpg'}}, 'users_in_photo': [], 'type': 'image'}, {'images': {'thumbnail': {'width': 150, 'height': 150, 'url': 'https://scontent.cdninstagram.com/t51.2885-15/s150x150/e35/18645341_1908196536119388_9217841501956997120_n.jpg'}, 'low_resolution': {'width': 320, 'height': 320, 'url': 'https://scontent.cdninstagram.com/t51.2885-15/s320x320/e35/18645341_1908196536119388_9217841501956997120_n.jpg'}, 'standard_resolution': {'width': 640, 'height': 640, 'url': 'https://scontent.cdninstagram.com/t51.2885-15/s640x640/sh0.08/e35/18645341_1908196536119388_9217841501956997120_n.jpg'}}, 'users_in_photo': [], 'type': 'image'}]}\n",
      "{'id': '1518546478115919540_4716027599', 'user': {'id': '4716027599', 'full_name': '➕Ru 🅱️ 🅰️ N K💲', 'profile_picture': 'https://scontent.cdninstagram.com/t51.2885-19/s150x150/18950423_1510566179013707_6849164555721900032_a.jpg', 'username': 'arubanks'}, 'images': {'thumbnail': {'width': 150, 'height': 150, 'url': 'https://scontent.cdninstagram.com/t51.2885-15/s150x150/e35/c126.0.827.827/18513374_1665522760410477_2058310050941763584_n.jpg'}, 'low_resolution': {'width': 320, 'height': 245, 'url': 'https://scontent.cdninstagram.com/t51.2885-15/s320x320/e35/18513374_1665522760410477_2058310050941763584_n.jpg'}, 'standard_resolution': {'width': 640, 'height': 490, 'url': 'https://scontent.cdninstagram.com/t51.2885-15/s640x640/sh0.08/e35/18513374_1665522760410477_2058310050941763584_n.jpg'}}, 'created_time': '1495244868', 'caption': {'id': '17855604628187124', 'text': 'Cloud9️⃣Empire$tateofMind🏙', 'created_time': '1495244868', 'from': {'id': '4716027599', 'full_name': '➕Ru 🅱️ 🅰️ N K💲', 'profile_picture': 'https://scontent.cdninstagram.com/t51.2885-19/s150x150/18950423_1510566179013707_6849164555721900032_a.jpg', 'username': 'arubanks'}}, 'user_has_liked': False, 'likes': {'count': 90}, 'tags': [], 'filter': 'Mayfair', 'comments': {'count': 0}, 'type': 'image', 'link': 'https://www.instagram.com/p/BUS9fnrBRa0/', 'location': {'latitude': 40.726255428333, 'longitude': -73.996144275, 'name': 'NoHo', 'id': 255006885}, 'attribution': None, 'users_in_photo': [{'user': {'id': '5459169319', 'full_name': 'Lito Visuals (Paul Ramirez)', 'profile_picture': 'https://scontent.cdninstagram.com/t51.2885-19/s150x150/21984549_129880564421263_1037650543796813824_n.jpg', 'username': 'lito.visuals'}, 'position': {'x': 0.06666666666666667, 'y': 0.8410157194679565}}]}\n",
      "{'id': '1514898290934869558_4716027599', 'user': {'id': '4716027599', 'full_name': '➕Ru 🅱️ 🅰️ N K💲', 'profile_picture': 'https://scontent.cdninstagram.com/t51.2885-19/s150x150/18950423_1510566179013707_6849164555721900032_a.jpg', 'username': 'arubanks'}, 'images': {'thumbnail': {'width': 150, 'height': 150, 'url': 'https://scontent.cdninstagram.com/t51.2885-15/s150x150/e35/18444122_1392006887513764_2427287268252188672_n.jpg'}, 'low_resolution': {'width': 320, 'height': 320, 'url': 'https://scontent.cdninstagram.com/t51.2885-15/s320x320/e35/18444122_1392006887513764_2427287268252188672_n.jpg'}, 'standard_resolution': {'width': 640, 'height': 640, 'url': 'https://scontent.cdninstagram.com/t51.2885-15/s640x640/sh0.08/e35/18444122_1392006887513764_2427287268252188672_n.jpg'}}, 'created_time': '1494809970', 'caption': {'id': '17880926155016678', 'text': 'My bro @paulito_r be havin me lookin like a model 📸\\n\\nGo follow his new page @lito.visuals', 'created_time': '1494809970', 'from': {'id': '4716027599', 'full_name': '➕Ru 🅱️ 🅰️ N K💲', 'profile_picture': 'https://scontent.cdninstagram.com/t51.2885-19/s150x150/18950423_1510566179013707_6849164555721900032_a.jpg', 'username': 'arubanks'}}, 'user_has_liked': False, 'likes': {'count': 108}, 'tags': [], 'filter': 'Normal', 'comments': {'count': 4}, 'type': 'carousel', 'link': 'https://www.instagram.com/p/BUF__gmBO42/', 'location': None, 'attribution': None, 'users_in_photo': [{'user': {'id': '184175902', 'full_name': 'Paul Ramirez 🇵🇭💪🏽', 'profile_picture': 'https://scontent.cdninstagram.com/t51.2885-19/s150x150/22352082_1434702856647193_5758877100358500352_n.jpg', 'username': 'paulito_r'}, 'position': {'x': 0.8506666666666667, 'y': 0.9051973509933775}}, {'user': {'id': '5459169319', 'full_name': 'Lito Visuals (Paul Ramirez)', 'profile_picture': 'https://scontent.cdninstagram.com/t51.2885-19/s150x150/21984549_129880564421263_1037650543796813824_n.jpg', 'username': 'lito.visuals'}, 'position': {'x': 0.2093333333333333, 'y': 0.8397774834437086}}], 'carousel_media': [{'images': {'thumbnail': {'width': 150, 'height': 150, 'url': 'https://scontent.cdninstagram.com/t51.2885-15/s150x150/e35/18444122_1392006887513764_2427287268252188672_n.jpg'}, 'low_resolution': {'width': 320, 'height': 320, 'url': 'https://scontent.cdninstagram.com/t51.2885-15/s320x320/e35/18444122_1392006887513764_2427287268252188672_n.jpg'}, 'standard_resolution': {'width': 640, 'height': 640, 'url': 'https://scontent.cdninstagram.com/t51.2885-15/s640x640/sh0.08/e35/18444122_1392006887513764_2427287268252188672_n.jpg'}}, 'users_in_photo': [{'user': {'id': '184175902', 'full_name': 'Paul Ramirez 🇵🇭💪🏽', 'profile_picture': 'https://scontent.cdninstagram.com/t51.2885-19/s150x150/22352082_1434702856647193_5758877100358500352_n.jpg', 'username': 'paulito_r'}, 'position': {'x': 0.8506666666666667, 'y': 0.9051973509933775}}, {'user': {'id': '5459169319', 'full_name': 'Lito Visuals (Paul Ramirez)', 'profile_picture': 'https://scontent.cdninstagram.com/t51.2885-19/s150x150/21984549_129880564421263_1037650543796813824_n.jpg', 'username': 'lito.visuals'}, 'position': {'x': 0.2093333333333333, 'y': 0.8397774834437086}}], 'type': 'image'}, {'images': {'thumbnail': {'width': 150, 'height': 150, 'url': 'https://scontent.cdninstagram.com/t51.2885-15/s150x150/e35/18443684_1359901710768679_5060898924248694784_n.jpg'}, 'low_resolution': {'width': 320, 'height': 320, 'url': 'https://scontent.cdninstagram.com/t51.2885-15/s320x320/e35/18443684_1359901710768679_5060898924248694784_n.jpg'}, 'standard_resolution': {'width': 640, 'height': 640, 'url': 'https://scontent.cdninstagram.com/t51.2885-15/s640x640/sh0.08/e35/18443684_1359901710768679_5060898924248694784_n.jpg'}}, 'users_in_photo': [], 'type': 'image'}, {'images': {'thumbnail': {'width': 150, 'height': 150, 'url': 'https://scontent.cdninstagram.com/t51.2885-15/s150x150/e35/c0.0.1079.1079/18444388_457754737902478_1584001131518885888_n.jpg'}, 'low_resolution': {'width': 320, 'height': 319, 'url': 'https://scontent.cdninstagram.com/t51.2885-15/s320x320/e35/18444388_457754737902478_1584001131518885888_n.jpg'}, 'standard_resolution': {'width': 640, 'height': 639, 'url': 'https://scontent.cdninstagram.com/t51.2885-15/s640x640/sh0.08/e35/18444388_457754737902478_1584001131518885888_n.jpg'}}, 'users_in_photo': [], 'type': 'image'}]}\n",
      "{'id': '1511239869476069597_4716027599', 'user': {'id': '4716027599', 'full_name': '➕Ru 🅱️ 🅰️ N K💲', 'profile_picture': 'https://scontent.cdninstagram.com/t51.2885-19/s150x150/18950423_1510566179013707_6849164555721900032_a.jpg', 'username': 'arubanks'}, 'images': {'thumbnail': {'width': 150, 'height': 150, 'url': 'https://scontent.cdninstagram.com/t51.2885-15/s150x150/e35/c0.135.1080.1080/18380538_125819227973034_2189034274018033664_n.jpg'}, 'low_resolution': {'width': 320, 'height': 400, 'url': 'https://scontent.cdninstagram.com/t51.2885-15/e35/p320x320/18380538_125819227973034_2189034274018033664_n.jpg'}, 'standard_resolution': {'width': 640, 'height': 800, 'url': 'https://scontent.cdninstagram.com/t51.2885-15/sh0.08/e35/p640x640/18380538_125819227973034_2189034274018033664_n.jpg'}}, 'created_time': '1494373852', 'caption': {'id': '17880328234011012', 'text': '🎥 🚱CCTV Tape Recording 📼❌', 'created_time': '1494373852', 'from': {'id': '4716027599', 'full_name': '➕Ru 🅱️ 🅰️ N K💲', 'profile_picture': 'https://scontent.cdninstagram.com/t51.2885-19/s150x150/18950423_1510566179013707_6849164555721900032_a.jpg', 'username': 'arubanks'}}, 'user_has_liked': False, 'likes': {'count': 84}, 'tags': [], 'filter': 'Clarendon', 'comments': {'count': 2}, 'type': 'image', 'link': 'https://www.instagram.com/p/BT5AKeGh2Dd/', 'location': None, 'attribution': None, 'users_in_photo': []}\n",
      "{'id': '1505286349841144261_4716027599', 'user': {'id': '4716027599', 'full_name': '➕Ru 🅱️ 🅰️ N K💲', 'profile_picture': 'https://scontent.cdninstagram.com/t51.2885-19/s150x150/18950423_1510566179013707_6849164555721900032_a.jpg', 'username': 'arubanks'}, 'images': {'thumbnail': {'width': 150, 'height': 150, 'url': 'https://scontent.cdninstagram.com/t51.2885-15/s150x150/e35/18298346_203678566813486_9195269593390645248_n.jpg'}, 'low_resolution': {'width': 320, 'height': 320, 'url': 'https://scontent.cdninstagram.com/t51.2885-15/s320x320/e35/18298346_203678566813486_9195269593390645248_n.jpg'}, 'standard_resolution': {'width': 640, 'height': 640, 'url': 'https://scontent.cdninstagram.com/t51.2885-15/s640x640/sh0.08/e35/18298346_203678566813486_9195269593390645248_n.jpg'}}, 'created_time': '1493664138', 'caption': {'id': '17865436720091471', 'text': '| Reflective |', 'created_time': '1493664138', 'from': {'id': '4716027599', 'full_name': '➕Ru 🅱️ 🅰️ N K💲', 'profile_picture': 'https://scontent.cdninstagram.com/t51.2885-19/s150x150/18950423_1510566179013707_6849164555721900032_a.jpg', 'username': 'arubanks'}}, 'user_has_liked': False, 'likes': {'count': 88}, 'tags': [], 'filter': 'Clarendon', 'comments': {'count': 15}, 'type': 'image', 'link': 'https://www.instagram.com/p/BTj2fW3hpnF/', 'location': None, 'attribution': None, 'users_in_photo': []}\n",
      "{'id': '1499514415106803217_4716027599', 'user': {'id': '4716027599', 'full_name': '➕Ru 🅱️ 🅰️ N K💲', 'profile_picture': 'https://scontent.cdninstagram.com/t51.2885-19/s150x150/18950423_1510566179013707_6849164555721900032_a.jpg', 'username': 'arubanks'}, 'images': {'thumbnail': {'width': 150, 'height': 150, 'url': 'https://scontent.cdninstagram.com/t51.2885-15/s150x150/e35/18095996_793789630795209_6189121321771728896_n.jpg'}, 'low_resolution': {'width': 320, 'height': 320, 'url': 'https://scontent.cdninstagram.com/t51.2885-15/s320x320/e35/18095996_793789630795209_6189121321771728896_n.jpg'}, 'standard_resolution': {'width': 640, 'height': 640, 'url': 'https://scontent.cdninstagram.com/t51.2885-15/s640x640/sh0.08/e35/18095996_793789630795209_6189121321771728896_n.jpg'}}, 'created_time': '1492976069', 'caption': {'id': '17867137705128943', 'text': '\"Yeah that young boy, he look just like a model\" 😱😱😱', 'created_time': '1492976069', 'from': {'id': '4716027599', 'full_name': '➕Ru 🅱️ 🅰️ N K💲', 'profile_picture': 'https://scontent.cdninstagram.com/t51.2885-19/s150x150/18950423_1510566179013707_6849164555721900032_a.jpg', 'username': 'arubanks'}}, 'user_has_liked': False, 'likes': {'count': 85}, 'tags': [], 'filter': 'Normal', 'comments': {'count': 6}, 'type': 'image', 'link': 'https://www.instagram.com/p/BTPWGpwBMYR/', 'location': None, 'attribution': None, 'users_in_photo': []}\n",
      "{'id': '1495160331109371894_4716027599', 'user': {'id': '4716027599', 'full_name': '➕Ru 🅱️ 🅰️ N K💲', 'profile_picture': 'https://scontent.cdninstagram.com/t51.2885-19/s150x150/18950423_1510566179013707_6849164555721900032_a.jpg', 'username': 'arubanks'}, 'images': {'thumbnail': {'width': 150, 'height': 150, 'url': 'https://scontent.cdninstagram.com/t51.2885-15/s150x150/e35/17882911_193961511116695_884283579553546240_n.jpg'}, 'low_resolution': {'width': 320, 'height': 320, 'url': 'https://scontent.cdninstagram.com/t51.2885-15/s320x320/e35/17882911_193961511116695_884283579553546240_n.jpg'}, 'standard_resolution': {'width': 640, 'height': 640, 'url': 'https://scontent.cdninstagram.com/t51.2885-15/s640x640/sh0.08/e35/17882911_193961511116695_884283579553546240_n.jpg'}}, 'created_time': '1492457022', 'caption': {'id': '17877627517019137', 'text': '😘', 'created_time': '1492457022', 'from': {'id': '4716027599', 'full_name': '➕Ru 🅱️ 🅰️ N K💲', 'profile_picture': 'https://scontent.cdninstagram.com/t51.2885-19/s150x150/18950423_1510566179013707_6849164555721900032_a.jpg', 'username': 'arubanks'}}, 'user_has_liked': False, 'likes': {'count': 88}, 'tags': [], 'filter': 'Aden', 'comments': {'count': 0}, 'type': 'image', 'link': 'https://www.instagram.com/p/BS_4GZCB4_2/', 'location': None, 'attribution': None, 'users_in_photo': []}\n",
      "{'id': '1488812841388762202_4716027599', 'user': {'id': '4716027599', 'full_name': '➕Ru 🅱️ 🅰️ N K💲', 'profile_picture': 'https://scontent.cdninstagram.com/t51.2885-19/s150x150/18950423_1510566179013707_6849164555721900032_a.jpg', 'username': 'arubanks'}, 'images': {'thumbnail': {'width': 150, 'height': 150, 'url': 'https://scontent.cdninstagram.com/t51.2885-15/s150x150/e35/17819108_298188127278799_3614707685347295232_n.jpg'}, 'low_resolution': {'width': 320, 'height': 320, 'url': 'https://scontent.cdninstagram.com/t51.2885-15/s320x320/e35/17819108_298188127278799_3614707685347295232_n.jpg'}, 'standard_resolution': {'width': 640, 'height': 640, 'url': 'https://scontent.cdninstagram.com/t51.2885-15/s640x640/sh0.08/e35/17819108_298188127278799_3614707685347295232_n.jpg'}}, 'created_time': '1491700342', 'caption': {'id': '17856096187130867', 'text': 'Dark Night 🌘', 'created_time': '1491700342', 'from': {'id': '4716027599', 'full_name': '➕Ru 🅱️ 🅰️ N K💲', 'profile_picture': 'https://scontent.cdninstagram.com/t51.2885-19/s150x150/18950423_1510566179013707_6849164555721900032_a.jpg', 'username': 'arubanks'}}, 'user_has_liked': False, 'likes': {'count': 51}, 'tags': [], 'filter': 'Lark', 'comments': {'count': 0}, 'type': 'image', 'link': 'https://www.instagram.com/p/BSpU2QkBGRa/', 'location': None, 'attribution': None, 'users_in_photo': []}\n",
      "{'id': '1486062103797601120_4716027599', 'user': {'id': '4716027599', 'full_name': '➕Ru 🅱️ 🅰️ N K💲', 'profile_picture': 'https://scontent.cdninstagram.com/t51.2885-19/s150x150/18950423_1510566179013707_6849164555721900032_a.jpg', 'username': 'arubanks'}, 'images': {'thumbnail': {'width': 150, 'height': 150, 'url': 'https://scontent.cdninstagram.com/t51.2885-15/s150x150/e35/17494867_1485623501461960_904199566243397632_n.jpg'}, 'low_resolution': {'width': 320, 'height': 320, 'url': 'https://scontent.cdninstagram.com/t51.2885-15/s320x320/e35/17494867_1485623501461960_904199566243397632_n.jpg'}, 'standard_resolution': {'width': 640, 'height': 640, 'url': 'https://scontent.cdninstagram.com/t51.2885-15/s640x640/sh0.08/e35/17494867_1485623501461960_904199566243397632_n.jpg'}}, 'created_time': '1491372429', 'caption': {'id': '17854033423149714', 'text': 'D R A G O N 🐉', 'created_time': '1491372429', 'from': {'id': '4716027599', 'full_name': '➕Ru 🅱️ 🅰️ N K💲', 'profile_picture': 'https://scontent.cdninstagram.com/t51.2885-19/s150x150/18950423_1510566179013707_6849164555721900032_a.jpg', 'username': 'arubanks'}}, 'user_has_liked': False, 'likes': {'count': 64}, 'tags': [], 'filter': 'Normal', 'comments': {'count': 2}, 'type': 'image', 'link': 'https://www.instagram.com/p/BSfjZwjBpNg/', 'location': None, 'attribution': None, 'users_in_photo': []}\n",
      "{'id': '1486060972652608825_4716027599', 'user': {'id': '4716027599', 'full_name': '➕Ru 🅱️ 🅰️ N K💲', 'profile_picture': 'https://scontent.cdninstagram.com/t51.2885-19/s150x150/18950423_1510566179013707_6849164555721900032_a.jpg', 'username': 'arubanks'}, 'images': {'thumbnail': {'width': 150, 'height': 150, 'url': 'https://scontent.cdninstagram.com/t51.2885-15/s150x150/e35/c0.107.1080.1080/17663320_309252932827654_9123605358227488768_n.jpg'}, 'low_resolution': {'width': 320, 'height': 383, 'url': 'https://scontent.cdninstagram.com/t51.2885-15/e35/p320x320/17663320_309252932827654_9123605358227488768_n.jpg'}, 'standard_resolution': {'width': 640, 'height': 767, 'url': 'https://scontent.cdninstagram.com/t51.2885-15/sh0.08/e35/p640x640/17663320_309252932827654_9123605358227488768_n.jpg'}}, 'created_time': '1491372294', 'caption': {'id': '17877405775009610', 'text': 'Peasants 😒', 'created_time': '1491372294', 'from': {'id': '4716027599', 'full_name': '➕Ru 🅱️ 🅰️ N K💲', 'profile_picture': 'https://scontent.cdninstagram.com/t51.2885-19/s150x150/18950423_1510566179013707_6849164555721900032_a.jpg', 'username': 'arubanks'}}, 'user_has_liked': False, 'likes': {'count': 75}, 'tags': [], 'filter': 'Normal', 'comments': {'count': 0}, 'type': 'image', 'link': 'https://www.instagram.com/p/BSfjJTFh705/', 'location': None, 'attribution': None, 'users_in_photo': []}\n",
      "{'id': '1486060490684939042_4716027599', 'user': {'id': '4716027599', 'full_name': '➕Ru 🅱️ 🅰️ N K💲', 'profile_picture': 'https://scontent.cdninstagram.com/t51.2885-19/s150x150/18950423_1510566179013707_6849164555721900032_a.jpg', 'username': 'arubanks'}, 'images': {'thumbnail': {'width': 150, 'height': 150, 'url': 'https://scontent.cdninstagram.com/t51.2885-15/s150x150/e35/17662448_413403629027831_4258974619655995392_n.jpg'}, 'low_resolution': {'width': 320, 'height': 320, 'url': 'https://scontent.cdninstagram.com/t51.2885-15/s320x320/e35/17662448_413403629027831_4258974619655995392_n.jpg'}, 'standard_resolution': {'width': 640, 'height': 640, 'url': 'https://scontent.cdninstagram.com/t51.2885-15/s640x640/sh0.08/e35/17662448_413403629027831_4258974619655995392_n.jpg'}}, 'created_time': '1491372237', 'caption': {'id': '17870595586069800', 'text': 'R U L ER 👑', 'created_time': '1491372237', 'from': {'id': '4716027599', 'full_name': '➕Ru 🅱️ 🅰️ N K💲', 'profile_picture': 'https://scontent.cdninstagram.com/t51.2885-19/s150x150/18950423_1510566179013707_6849164555721900032_a.jpg', 'username': 'arubanks'}}, 'user_has_liked': False, 'likes': {'count': 43}, 'tags': [], 'filter': 'Normal', 'comments': {'count': 3}, 'type': 'image', 'link': 'https://www.instagram.com/p/BSfjCSOBLsi/', 'location': None, 'attribution': None, 'users_in_photo': []}\n",
      "{'id': '1482269140264997052_4716027599', 'user': {'id': '4716027599', 'full_name': '➕Ru 🅱️ 🅰️ N K💲', 'profile_picture': 'https://scontent.cdninstagram.com/t51.2885-19/s150x150/18950423_1510566179013707_6849164555721900032_a.jpg', 'username': 'arubanks'}, 'images': {'thumbnail': {'width': 150, 'height': 150, 'url': 'https://scontent.cdninstagram.com/t51.2885-15/s150x150/e35/17586937_1926920167537344_8126302140936224768_n.jpg'}, 'low_resolution': {'width': 320, 'height': 320, 'url': 'https://scontent.cdninstagram.com/t51.2885-15/s320x320/e35/17586937_1926920167537344_8126302140936224768_n.jpg'}, 'standard_resolution': {'width': 640, 'height': 640, 'url': 'https://scontent.cdninstagram.com/t51.2885-15/s640x640/sh0.08/e35/17586937_1926920167537344_8126302140936224768_n.jpg'}}, 'created_time': '1490920272', 'caption': {'id': '17852422498187660', 'text': 'Step🆙', 'created_time': '1490920272', 'from': {'id': '4716027599', 'full_name': '➕Ru 🅱️ 🅰️ N K💲', 'profile_picture': 'https://scontent.cdninstagram.com/t51.2885-19/s150x150/18950423_1510566179013707_6849164555721900032_a.jpg', 'username': 'arubanks'}}, 'user_has_liked': False, 'likes': {'count': 97}, 'tags': [], 'filter': 'Clarendon', 'comments': {'count': 9}, 'type': 'image', 'link': 'https://www.instagram.com/p/BSSE-3_BNC8/', 'location': None, 'attribution': None, 'users_in_photo': []}\n",
      "{'id': '1477857559137660566_4716027599', 'user': {'id': '4716027599', 'full_name': '➕Ru 🅱️ 🅰️ N K💲', 'profile_picture': 'https://scontent.cdninstagram.com/t51.2885-19/s150x150/18950423_1510566179013707_6849164555721900032_a.jpg', 'username': 'arubanks'}, 'images': {'thumbnail': {'width': 150, 'height': 150, 'url': 'https://scontent.cdninstagram.com/t51.2885-15/s150x150/e35/17438182_250981428643662_4465023128765988864_n.jpg'}, 'low_resolution': {'width': 320, 'height': 320, 'url': 'https://scontent.cdninstagram.com/t51.2885-15/s320x320/e35/17438182_250981428643662_4465023128765988864_n.jpg'}, 'standard_resolution': {'width': 640, 'height': 640, 'url': 'https://scontent.cdninstagram.com/t51.2885-15/s640x640/sh0.08/e35/17438182_250981428643662_4465023128765988864_n.jpg'}}, 'created_time': '1490394371', 'caption': {'id': '17866838953079325', 'text': '©aption', 'created_time': '1490394371', 'from': {'id': '4716027599', 'full_name': '➕Ru 🅱️ 🅰️ N K💲', 'profile_picture': 'https://scontent.cdninstagram.com/t51.2885-19/s150x150/18950423_1510566179013707_6849164555721900032_a.jpg', 'username': 'arubanks'}}, 'user_has_liked': False, 'likes': {'count': 83}, 'tags': [], 'filter': 'Normal', 'comments': {'count': 2}, 'type': 'image', 'link': 'https://www.instagram.com/p/BSCZ565Bq6W/', 'location': None, 'attribution': None, 'users_in_photo': []}\n",
      "{'id': '1475699517856109236_4716027599', 'user': {'id': '4716027599', 'full_name': '➕Ru 🅱️ 🅰️ N K💲', 'profile_picture': 'https://scontent.cdninstagram.com/t51.2885-19/s150x150/18950423_1510566179013707_6849164555721900032_a.jpg', 'username': 'arubanks'}, 'images': {'thumbnail': {'width': 150, 'height': 150, 'url': 'https://scontent.cdninstagram.com/t51.2885-15/s150x150/e35/17437989_577958035748261_9093810852267556864_n.jpg'}, 'low_resolution': {'width': 320, 'height': 320, 'url': 'https://scontent.cdninstagram.com/t51.2885-15/s320x320/e35/17437989_577958035748261_9093810852267556864_n.jpg'}, 'standard_resolution': {'width': 640, 'height': 640, 'url': 'https://scontent.cdninstagram.com/t51.2885-15/s640x640/sh0.08/e35/17437989_577958035748261_9093810852267556864_n.jpg'}}, 'created_time': '1490137112', 'caption': {'id': '17864626762096619', 'text': '🙎🏾\\u200d♂️', 'created_time': '1490137112', 'from': {'id': '4716027599', 'full_name': '➕Ru 🅱️ 🅰️ N K💲', 'profile_picture': 'https://scontent.cdninstagram.com/t51.2885-19/s150x150/18950423_1510566179013707_6849164555721900032_a.jpg', 'username': 'arubanks'}}, 'user_has_liked': False, 'likes': {'count': 95}, 'tags': [], 'filter': 'Normal', 'comments': {'count': 2}, 'type': 'image', 'link': 'https://www.instagram.com/p/BR6vOSVB1K0/', 'location': {'latitude': 43.038411, 'longitude': -76.134664, 'name': 'Hall of Languages, Syracuse University', 'id': 325177}, 'attribution': None, 'users_in_photo': []}\n",
      "{'id': '1475585014271173933_4716027599', 'user': {'id': '4716027599', 'full_name': '➕Ru 🅱️ 🅰️ N K💲', 'profile_picture': 'https://scontent.cdninstagram.com/t51.2885-19/s150x150/18950423_1510566179013707_6849164555721900032_a.jpg', 'username': 'arubanks'}, 'images': {'thumbnail': {'width': 150, 'height': 150, 'url': 'https://scontent.cdninstagram.com/t51.2885-15/s150x150/e35/17265884_404049086627734_5831737651417317376_n.jpg'}, 'low_resolution': {'width': 320, 'height': 320, 'url': 'https://scontent.cdninstagram.com/t51.2885-15/s320x320/e35/17265884_404049086627734_5831737651417317376_n.jpg'}, 'standard_resolution': {'width': 640, 'height': 640, 'url': 'https://scontent.cdninstagram.com/t51.2885-15/s640x640/sh0.08/e35/17265884_404049086627734_5831737651417317376_n.jpg'}}, 'created_time': '1490123462', 'caption': {'id': '17866612936104029', 'text': 'H.O. L I N G 🅾️', 'created_time': '1490123462', 'from': {'id': '4716027599', 'full_name': '➕Ru 🅱️ 🅰️ N K💲', 'profile_picture': 'https://scontent.cdninstagram.com/t51.2885-19/s150x150/18950423_1510566179013707_6849164555721900032_a.jpg', 'username': 'arubanks'}}, 'user_has_liked': False, 'likes': {'count': 98}, 'tags': [], 'filter': 'Normal', 'comments': {'count': 12}, 'type': 'image', 'link': 'https://www.instagram.com/p/BR6VMCjheUt/', 'location': {'latitude': 43.038411, 'longitude': -76.134664, 'name': 'Hall of Languages, Syracuse University', 'id': 325177}, 'attribution': None, 'users_in_photo': []}\n",
      "{'id': '1467036419578239399_4716027599', 'user': {'id': '4716027599', 'full_name': '➕Ru 🅱️ 🅰️ N K💲', 'profile_picture': 'https://scontent.cdninstagram.com/t51.2885-19/s150x150/18950423_1510566179013707_6849164555721900032_a.jpg', 'username': 'arubanks'}, 'images': {'thumbnail': {'width': 150, 'height': 150, 'url': 'https://scontent.cdninstagram.com/t51.2885-15/s150x150/e35/17126265_858338790981609_8905910336624787456_n.jpg'}, 'low_resolution': {'width': 320, 'height': 320, 'url': 'https://scontent.cdninstagram.com/t51.2885-15/s320x320/e35/17126265_858338790981609_8905910336624787456_n.jpg'}, 'standard_resolution': {'width': 640, 'height': 640, 'url': 'https://scontent.cdninstagram.com/t51.2885-15/s640x640/sh0.08/e35/17126265_858338790981609_8905910336624787456_n.jpg'}}, 'created_time': '1489104391', 'caption': {'id': '17850836662190104', 'text': 'Since everyone think Im Hollywood 🎥🎞', 'created_time': '1489104391', 'from': {'id': '4716027599', 'full_name': '➕Ru 🅱️ 🅰️ N K💲', 'profile_picture': 'https://scontent.cdninstagram.com/t51.2885-19/s150x150/18950423_1510566179013707_6849164555721900032_a.jpg', 'username': 'arubanks'}}, 'user_has_liked': False, 'likes': {'count': 51}, 'tags': [], 'filter': 'Lo-fi', 'comments': {'count': 0}, 'type': 'image', 'link': 'https://www.instagram.com/p/BRb9dnVhZmn/', 'location': None, 'attribution': None, 'users_in_photo': []}\n"
     ]
    }
   ],
   "source": [
    "url = 'https://api.instagram.com/v1/users/4716027599/media/recent/?access_token=4716027599.b0516d9.8d4424ecceb4450496f1ac2610b6d38c'\n",
    "response = requests.get(url)\n",
    "geodip = response.json()\n",
    "\n",
    "for i in range(0,20):\n",
    "    print(geodip['data'][i])"
   ]
  },
  {
   "cell_type": "code",
   "execution_count": 80,
   "metadata": {},
   "outputs": [
    {
     "name": "stdout",
     "output_type": "stream",
     "text": [
      "Enter an number and we'll show you all the pictures that have more than that amount of likes:arubanks\n",
      "https://scontent.cdninstagram.com/t51.2885-15/s640x640/sh0.08/e35/20225812_108817729781590_5116369569337835520_n.jpg\n",
      "https://scontent.cdninstagram.com/t51.2885-15/s640x640/sh0.08/e35/20225613_488179781525475_7933241647289073664_n.jpg\n",
      "https://scontent.cdninstagram.com/t51.2885-15/sh0.08/e35/p640x640/18809175_478964415778644_6285195728683794432_n.jpg\n",
      "https://scontent.cdninstagram.com/t51.2885-15/s640x640/sh0.08/e35/18812704_1682260172077741_3052621213626007552_n.jpg\n",
      "https://scontent.cdninstagram.com/t51.2885-15/s640x640/sh0.08/e35/18644913_141889069688737_56544468517519360_n.jpg\n",
      "https://scontent.cdninstagram.com/t51.2885-15/s640x640/sh0.08/e35/18513374_1665522760410477_2058310050941763584_n.jpg\n",
      "https://scontent.cdninstagram.com/t51.2885-15/s640x640/sh0.08/e35/18444122_1392006887513764_2427287268252188672_n.jpg\n",
      "https://scontent.cdninstagram.com/t51.2885-15/sh0.08/e35/p640x640/18380538_125819227973034_2189034274018033664_n.jpg\n",
      "https://scontent.cdninstagram.com/t51.2885-15/s640x640/sh0.08/e35/18298346_203678566813486_9195269593390645248_n.jpg\n",
      "https://scontent.cdninstagram.com/t51.2885-15/s640x640/sh0.08/e35/18095996_793789630795209_6189121321771728896_n.jpg\n",
      "https://scontent.cdninstagram.com/t51.2885-15/s640x640/sh0.08/e35/17882911_193961511116695_884283579553546240_n.jpg\n",
      "https://scontent.cdninstagram.com/t51.2885-15/s640x640/sh0.08/e35/17819108_298188127278799_3614707685347295232_n.jpg\n",
      "https://scontent.cdninstagram.com/t51.2885-15/s640x640/sh0.08/e35/17494867_1485623501461960_904199566243397632_n.jpg\n",
      "https://scontent.cdninstagram.com/t51.2885-15/sh0.08/e35/p640x640/17663320_309252932827654_9123605358227488768_n.jpg\n",
      "https://scontent.cdninstagram.com/t51.2885-15/s640x640/sh0.08/e35/17662448_413403629027831_4258974619655995392_n.jpg\n",
      "https://scontent.cdninstagram.com/t51.2885-15/s640x640/sh0.08/e35/17586937_1926920167537344_8126302140936224768_n.jpg\n",
      "https://scontent.cdninstagram.com/t51.2885-15/s640x640/sh0.08/e35/17438182_250981428643662_4465023128765988864_n.jpg\n",
      "https://scontent.cdninstagram.com/t51.2885-15/s640x640/sh0.08/e35/17437989_577958035748261_9093810852267556864_n.jpg\n",
      "https://scontent.cdninstagram.com/t51.2885-15/s640x640/sh0.08/e35/17265884_404049086627734_5831737651417317376_n.jpg\n",
      "https://scontent.cdninstagram.com/t51.2885-15/s640x640/sh0.08/e35/17126265_858338790981609_8905910336624787456_n.jpg\n"
     ]
    }
   ],
   "source": [
    "import requests\n",
    "import json \n",
    "\n",
    "word = input(\"Enter an number and we'll show you all the pictures that have more than that amount of likes:\")\n",
    "access_tokens = ['4716027599.b0516d9.8d4424ecceb4450496f1ac2610b6d38c', \n",
    "                 '19725156.e0f7bcd.0d8af002c91d4bc2b191e29f9c20e427', \n",
    "                 '54890016.29e83e3.4434b31725404d14b17d26bac226f10a', \n",
    "                 '53030514.303ffc1.f77075cd2f04443aa07ebf4bfe76d2bc']\n",
    "\n",
    "for i in range(0,len(access_tokens)):\n",
    "    url = 'https://api.instagram.com/v1/users/'+ access_tokens[i][:access_tokens[i].find('.')] + '/media/recent/?access_token='+ access_tokens[i]\n",
    "    response = requests.get(url)\n",
    "    geodip = response.json()\n",
    "\n",
    "    if geodip['data'][0]['user']['username'] == word:\n",
    "        for i in range(0,20):\n",
    "            print(geodip['data'][i]['images']['standard_resolution']['url'])"
   ]
  },
  {
   "cell_type": "code",
   "execution_count": null,
   "metadata": {},
   "outputs": [],
   "source": [
    " print(geodip['data'][5]['user']['full_name'])"
   ]
  },
  {
   "cell_type": "code",
   "execution_count": null,
   "metadata": {
    "collapsed": true
   },
   "outputs": [],
   "source": []
  }
 ],
 "metadata": {
  "kernelspec": {
   "display_name": "Python 3",
   "language": "python",
   "name": "python3"
  }
 },
 "nbformat": 4,
 "nbformat_minor": 2
}
