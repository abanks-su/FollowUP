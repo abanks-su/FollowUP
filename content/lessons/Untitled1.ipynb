{
 "cells": [
  {
   "cell_type": "code",
   "execution_count": 1,
   "metadata": {},
   "outputs": [
    {
     "ename": "SyntaxError",
     "evalue": "invalid syntax (<ipython-input-1-cfea46740b01>, line 1)",
     "output_type": "error",
     "traceback": [
      "\u001b[0;36m  File \u001b[0;32m\"<ipython-input-1-cfea46740b01>\"\u001b[0;36m, line \u001b[0;32m1\u001b[0m\n\u001b[0;31m    https://api.instagram.com/v1/users/self/?access_token=4716027599.b0516d9.8d4424ecceb4450496f1ac2610b6d38c\u001b[0m\n\u001b[0m           ^\u001b[0m\n\u001b[0;31mSyntaxError\u001b[0m\u001b[0;31m:\u001b[0m invalid syntax\n"
     ]
    }
   ],
   "source": [
    "https://api.instagram.com/v1/users/self/?access_token=4716027599.b0516d9.8d4424ecceb4450496f1ac2610b6d38c"
   ]
  },
  {
   "cell_type": "code",
   "execution_count": 37,
   "metadata": {},
   "outputs": [
    {
     "name": "stdout",
     "output_type": "stream",
     "text": [
      "https://scontent.cdninstagram.com/t51.2885-19/s150x150/18950423_1510566179013707_6849164555721900032_a.jpg\n",
      "https://scontent.cdninstagram.com/t51.2885-15/s640x640/sh0.08/e35/20225812_108817729781590_5116369569337835520_n.jpg\n",
      "https://scontent.cdninstagram.com/t51.2885-15/s640x640/sh0.08/e35/20225613_488179781525475_7933241647289073664_n.jpg\n",
      "https://scontent.cdninstagram.com/t51.2885-15/sh0.08/e35/p640x640/18809175_478964415778644_6285195728683794432_n.jpg\n",
      "https://scontent.cdninstagram.com/t51.2885-15/s640x640/sh0.08/e35/18812704_1682260172077741_3052621213626007552_n.jpg\n",
      "https://scontent.cdninstagram.com/t51.2885-15/s640x640/sh0.08/e35/18644913_141889069688737_56544468517519360_n.jpg\n",
      "https://scontent.cdninstagram.com/t51.2885-15/s640x640/sh0.08/e35/18513374_1665522760410477_2058310050941763584_n.jpg\n",
      "https://scontent.cdninstagram.com/t51.2885-15/s640x640/sh0.08/e35/18444122_1392006887513764_2427287268252188672_n.jpg\n",
      "https://scontent.cdninstagram.com/t51.2885-15/sh0.08/e35/p640x640/18380538_125819227973034_2189034274018033664_n.jpg\n",
      "https://scontent.cdninstagram.com/t51.2885-15/s640x640/sh0.08/e35/18298346_203678566813486_9195269593390645248_n.jpg\n",
      "https://scontent.cdninstagram.com/t51.2885-15/s640x640/sh0.08/e35/18095996_793789630795209_6189121321771728896_n.jpg\n",
      "https://scontent.cdninstagram.com/t51.2885-15/s640x640/sh0.08/e35/17882911_193961511116695_884283579553546240_n.jpg\n",
      "https://scontent.cdninstagram.com/t51.2885-15/s640x640/sh0.08/e35/17819108_298188127278799_3614707685347295232_n.jpg\n",
      "https://scontent.cdninstagram.com/t51.2885-15/s640x640/sh0.08/e35/17494867_1485623501461960_904199566243397632_n.jpg\n",
      "https://scontent.cdninstagram.com/t51.2885-15/sh0.08/e35/p640x640/17663320_309252932827654_9123605358227488768_n.jpg\n",
      "https://scontent.cdninstagram.com/t51.2885-15/s640x640/sh0.08/e35/17662448_413403629027831_4258974619655995392_n.jpg\n",
      "https://scontent.cdninstagram.com/t51.2885-15/s640x640/sh0.08/e35/17586937_1926920167537344_8126302140936224768_n.jpg\n",
      "https://scontent.cdninstagram.com/t51.2885-15/s640x640/sh0.08/e35/17438182_250981428643662_4465023128765988864_n.jpg\n",
      "https://scontent.cdninstagram.com/t51.2885-15/s640x640/sh0.08/e35/17437989_577958035748261_9093810852267556864_n.jpg\n",
      "https://scontent.cdninstagram.com/t51.2885-15/s640x640/sh0.08/e35/17265884_404049086627734_5831737651417317376_n.jpg\n",
      "https://scontent.cdninstagram.com/t51.2885-15/s640x640/sh0.08/e35/17126265_858338790981609_8905910336624787456_n.jpg\n"
     ]
    }
   ],
   "source": [
    "import requests\n",
    "import json \n",
    "\n",
    "url = 'https://api.instagram.com/v1/users/self/?access_token=4716027599.b0516d9.8d4424ecceb4450496f1ac2610b6d38c'\n",
    "response = requests.get(url)\n",
    "geodip = response.json()\n",
    "print(geodip['data']['profile_picture'])\n",
    "\n",
    "url = 'https://api.instagram.com/v1/users/4716027599/media/recent/?access_token=4716027599.b0516d9.8d4424ecceb4450496f1ac2610b6d38c'\n",
    "response = requests.get(url)\n",
    "geodip = response.json()\n",
    "\n",
    "for i in range(0,20):\n",
    "    print(geodip['data'][i]['images']['standard_resolution']['url'])\n",
    "\n"
   ]
  },
  {
   "cell_type": "code",
   "execution_count": null,
   "metadata": {
    "collapsed": true
   },
   "outputs": [],
   "source": []
  }
 ],
 "metadata": {
  "kernelspec": {
   "display_name": "Python 3",
   "language": "python",
   "name": "python3"
  },
  "language_info": {
   "codemirror_mode": {
    "name": "ipython",
    "version": 3
   },
   "file_extension": ".py",
   "mimetype": "text/x-python",
   "name": "python",
   "nbconvert_exporter": "python",
   "pygments_lexer": "ipython3",
   "version": "3.6.1"
  }
 },
 "nbformat": 4,
 "nbformat_minor": 2
}
